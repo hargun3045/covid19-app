{
 "cells": [
  {
   "cell_type": "code",
   "execution_count": 1,
   "metadata": {},
   "outputs": [],
   "source": [
    "from fastai.tabular import *"
   ]
  },
  {
   "cell_type": "code",
   "execution_count": 2,
   "metadata": {},
   "outputs": [],
   "source": [
    "path = Path('./covid19_ml_education')"
   ]
  },
  {
   "cell_type": "code",
   "execution_count": 3,
   "metadata": {},
   "outputs": [
    {
     "data": {
      "text/plain": [
       "[PosixPath('covid19_ml_education/covid_ml.csv'),\n",
       " PosixPath('covid19_ml_education/covid19_ml_education.Rmd'),\n",
       " PosixPath('covid19_ml_education/LICENSE'),\n",
       " PosixPath('covid19_ml_education/models'),\n",
       " PosixPath('covid19_ml_education/covid19_ml_education.nb.html'),\n",
       " PosixPath('covid19_ml_education/COVID19_2020_open_line_list.xlsx'),\n",
       " PosixPath('covid19_ml_education/README.md'),\n",
       " PosixPath('covid19_ml_education/.git')]"
      ]
     },
     "execution_count": 3,
     "metadata": {},
     "output_type": "execute_result"
    }
   ],
   "source": [
    "path.ls()"
   ]
  },
  {
   "cell_type": "code",
   "execution_count": 22,
   "metadata": {},
   "outputs": [],
   "source": [
    "df = pd.read_csv(path/'covid_ml.csv')"
   ]
  },
  {
   "cell_type": "markdown",
   "metadata": {},
   "source": [
    "## Here I am taking only valid values for regression problem"
   ]
  },
  {
   "cell_type": "code",
   "execution_count": 29,
   "metadata": {},
   "outputs": [],
   "source": [
    "df = df[df['days_onset_to_admission'].notnull()]"
   ]
  },
  {
   "cell_type": "code",
   "execution_count": 30,
   "metadata": {},
   "outputs": [
    {
     "data": {
      "text/plain": [
       "641"
      ]
     },
     "execution_count": 30,
     "metadata": {},
     "output_type": "execute_result"
    }
   ],
   "source": [
    "len(df)"
   ]
  },
  {
   "cell_type": "code",
   "execution_count": 6,
   "metadata": {},
   "outputs": [
    {
     "data": {
      "text/plain": [
       "Index(['ID', 'age', 'sex', 'cough', 'fever', 'chills', 'sore_throat',\n",
       "       'headache', 'fatigue', 'urgency_of_admission',\n",
       "       'days_onset_to_admission', 'symptoms', 'city', 'province', 'country',\n",
       "       'latitude', 'longitude', 'geo_resolution', 'date_onset_symptoms',\n",
       "       'date_admission_hospital', 'date_confirmation',\n",
       "       'date_death_or_discharge', 'source'],\n",
       "      dtype='object')"
      ]
     },
     "execution_count": 6,
     "metadata": {},
     "output_type": "execute_result"
    }
   ],
   "source": [
    "df.columns"
   ]
  },
  {
   "cell_type": "markdown",
   "metadata": {},
   "source": [
    "## This is continuous"
   ]
  },
  {
   "cell_type": "code",
   "execution_count": 33,
   "metadata": {},
   "outputs": [],
   "source": [
    "y_col = 'days_onset_to_admission'"
   ]
  },
  {
   "cell_type": "markdown",
   "metadata": {},
   "source": [
    "## Below is categorical"
   ]
  },
  {
   "cell_type": "code",
   "execution_count": 32,
   "metadata": {},
   "outputs": [],
   "source": [
    "y_col = 'urgency_of_admission'"
   ]
  },
  {
   "cell_type": "markdown",
   "metadata": {},
   "source": [
    "## Everything below remains the same"
   ]
  },
  {
   "cell_type": "code",
   "execution_count": 35,
   "metadata": {},
   "outputs": [],
   "source": [
    "cat_names = ['sex', 'cough', 'fever', 'chills','sore_throat', 'headache', 'fatigue']"
   ]
  },
  {
   "cell_type": "code",
   "execution_count": 36,
   "metadata": {},
   "outputs": [],
   "source": [
    "cont_names = ['age']"
   ]
  },
  {
   "cell_type": "code",
   "execution_count": 37,
   "metadata": {},
   "outputs": [],
   "source": [
    "procs = [FillMissing, Categorify, Normalize]"
   ]
  },
  {
   "cell_type": "code",
   "execution_count": 40,
   "metadata": {},
   "outputs": [],
   "source": [
    "test = TabularList.from_df(df.iloc[520:641].copy(), path = path, cat_names = cat_names, cont_names = cont_names)"
   ]
  },
  {
   "cell_type": "code",
   "execution_count": 43,
   "metadata": {},
   "outputs": [],
   "source": [
    "data = (TabularList.from_df(df, path=path, cat_names = cat_names, cont_names = cont_names, procs = procs)\n",
    "        .split_by_idx(list(range(520,641)))\n",
    "        .label_from_df(cols=y_col, label_cls = FloatList)\n",
    "        .add_test(test)\n",
    "        .databunch()\n",
    ")"
   ]
  },
  {
   "cell_type": "code",
   "execution_count": 44,
   "metadata": {},
   "outputs": [
    {
     "data": {
      "text/html": [
       "<table border=\"1\" class=\"dataframe\">\n",
       "  <thead>\n",
       "    <tr style=\"text-align: right;\">\n",
       "      <th>sex</th>\n",
       "      <th>cough</th>\n",
       "      <th>fever</th>\n",
       "      <th>chills</th>\n",
       "      <th>sore_throat</th>\n",
       "      <th>headache</th>\n",
       "      <th>fatigue</th>\n",
       "      <th>age_na</th>\n",
       "      <th>age</th>\n",
       "      <th>target</th>\n",
       "    </tr>\n",
       "  </thead>\n",
       "  <tbody>\n",
       "    <tr>\n",
       "      <td>female</td>\n",
       "      <td>No</td>\n",
       "      <td>No</td>\n",
       "      <td>No</td>\n",
       "      <td>No</td>\n",
       "      <td>No</td>\n",
       "      <td>No</td>\n",
       "      <td>False</td>\n",
       "      <td>0.7580</td>\n",
       "      <td>5.0</td>\n",
       "    </tr>\n",
       "    <tr>\n",
       "      <td>male</td>\n",
       "      <td>No</td>\n",
       "      <td>No</td>\n",
       "      <td>No</td>\n",
       "      <td>No</td>\n",
       "      <td>No</td>\n",
       "      <td>No</td>\n",
       "      <td>False</td>\n",
       "      <td>0.2394</td>\n",
       "      <td>5.0</td>\n",
       "    </tr>\n",
       "    <tr>\n",
       "      <td>male</td>\n",
       "      <td>No</td>\n",
       "      <td>No</td>\n",
       "      <td>No</td>\n",
       "      <td>No</td>\n",
       "      <td>No</td>\n",
       "      <td>No</td>\n",
       "      <td>False</td>\n",
       "      <td>1.2765</td>\n",
       "      <td>7.0</td>\n",
       "    </tr>\n",
       "    <tr>\n",
       "      <td>female</td>\n",
       "      <td>No</td>\n",
       "      <td>Yes</td>\n",
       "      <td>Yes</td>\n",
       "      <td>No</td>\n",
       "      <td>Yes</td>\n",
       "      <td>No</td>\n",
       "      <td>False</td>\n",
       "      <td>0.3691</td>\n",
       "      <td>5.0</td>\n",
       "    </tr>\n",
       "    <tr>\n",
       "      <td>male</td>\n",
       "      <td>No</td>\n",
       "      <td>No</td>\n",
       "      <td>No</td>\n",
       "      <td>No</td>\n",
       "      <td>No</td>\n",
       "      <td>No</td>\n",
       "      <td>False</td>\n",
       "      <td>-0.9921</td>\n",
       "      <td>7.0</td>\n",
       "    </tr>\n",
       "    <tr>\n",
       "      <td>female</td>\n",
       "      <td>No</td>\n",
       "      <td>No</td>\n",
       "      <td>No</td>\n",
       "      <td>No</td>\n",
       "      <td>No</td>\n",
       "      <td>No</td>\n",
       "      <td>False</td>\n",
       "      <td>0.3043</td>\n",
       "      <td>1.0</td>\n",
       "    </tr>\n",
       "    <tr>\n",
       "      <td>male</td>\n",
       "      <td>No</td>\n",
       "      <td>No</td>\n",
       "      <td>No</td>\n",
       "      <td>No</td>\n",
       "      <td>No</td>\n",
       "      <td>No</td>\n",
       "      <td>False</td>\n",
       "      <td>-0.7976</td>\n",
       "      <td>7.0</td>\n",
       "    </tr>\n",
       "    <tr>\n",
       "      <td>female</td>\n",
       "      <td>No</td>\n",
       "      <td>Yes</td>\n",
       "      <td>No</td>\n",
       "      <td>No</td>\n",
       "      <td>No</td>\n",
       "      <td>No</td>\n",
       "      <td>False</td>\n",
       "      <td>-2.8069</td>\n",
       "      <td>1.0</td>\n",
       "    </tr>\n",
       "    <tr>\n",
       "      <td>male</td>\n",
       "      <td>No</td>\n",
       "      <td>No</td>\n",
       "      <td>No</td>\n",
       "      <td>No</td>\n",
       "      <td>No</td>\n",
       "      <td>No</td>\n",
       "      <td>False</td>\n",
       "      <td>-1.3810</td>\n",
       "      <td>3.0</td>\n",
       "    </tr>\n",
       "    <tr>\n",
       "      <td>male</td>\n",
       "      <td>No</td>\n",
       "      <td>No</td>\n",
       "      <td>No</td>\n",
       "      <td>No</td>\n",
       "      <td>No</td>\n",
       "      <td>No</td>\n",
       "      <td>False</td>\n",
       "      <td>-0.7328</td>\n",
       "      <td>9.0</td>\n",
       "    </tr>\n",
       "  </tbody>\n",
       "</table>"
      ],
      "text/plain": [
       "<IPython.core.display.HTML object>"
      ]
     },
     "metadata": {},
     "output_type": "display_data"
    }
   ],
   "source": [
    "data.show_batch(rows=10)"
   ]
  },
  {
   "cell_type": "markdown",
   "metadata": {},
   "source": [
    "## Model"
   ]
  },
  {
   "cell_type": "code",
   "execution_count": 46,
   "metadata": {},
   "outputs": [],
   "source": [
    "max_y = np.max(df['days_onset_to_admission'])*1.2"
   ]
  },
  {
   "cell_type": "code",
   "execution_count": 48,
   "metadata": {},
   "outputs": [],
   "source": [
    "y_range = torch.tensor([0, max_y], device = defaults.device)"
   ]
  },
  {
   "cell_type": "code",
   "execution_count": 57,
   "metadata": {},
   "outputs": [],
   "source": [
    "learn = tabular_learner(data, layers = [200,100], y_range = y_range, metrics = rmse)"
   ]
  },
  {
   "cell_type": "code",
   "execution_count": 58,
   "metadata": {},
   "outputs": [
    {
     "data": {
      "text/html": [],
      "text/plain": [
       "<IPython.core.display.HTML object>"
      ]
     },
     "metadata": {},
     "output_type": "display_data"
    },
    {
     "name": "stdout",
     "output_type": "stream",
     "text": [
      "LR Finder is complete, type {learner_name}.recorder.plot() to see the graph.\n"
     ]
    },
    {
     "data": {
      "image/png": "[encoded data removed]",
      "text/plain": [
       "<Figure size 432x288 with 1 Axes>"
      ]
     },
     "metadata": {
      "needs_background": "light"
     },
     "output_type": "display_data"
    }
   ],
   "source": [
    "learn.lr_find(); learn.recorder.plot()"
   ]
  },
  {
   "cell_type": "code",
   "execution_count": 61,
   "metadata": {},
   "outputs": [
    {
     "data": {
      "text/html": [
       "<table border=\"1\" class=\"dataframe\">\n",
       "  <thead>\n",
       "    <tr style=\"text-align: left;\">\n",
       "      <th>epoch</th>\n",
       "      <th>train_loss</th>\n",
       "      <th>valid_loss</th>\n",
       "      <th>root_mean_squared_error</th>\n",
       "      <th>time</th>\n",
       "    </tr>\n",
       "  </thead>\n",
       "  <tbody>\n",
       "    <tr>\n",
       "      <td>0</td>\n",
       "      <td>19.341658</td>\n",
       "      <td>34.786560</td>\n",
       "      <td>5.676008</td>\n",
       "      <td>00:00</td>\n",
       "    </tr>\n",
       "    <tr>\n",
       "      <td>1</td>\n",
       "      <td>23.992029</td>\n",
       "      <td>47.009186</td>\n",
       "      <td>6.772113</td>\n",
       "      <td>00:00</td>\n",
       "    </tr>\n",
       "    <tr>\n",
       "      <td>2</td>\n",
       "      <td>26.699446</td>\n",
       "      <td>213.653519</td>\n",
       "      <td>14.595117</td>\n",
       "      <td>00:00</td>\n",
       "    </tr>\n",
       "    <tr>\n",
       "      <td>3</td>\n",
       "      <td>28.518188</td>\n",
       "      <td>52.498684</td>\n",
       "      <td>6.992021</td>\n",
       "      <td>00:00</td>\n",
       "    </tr>\n",
       "    <tr>\n",
       "      <td>4</td>\n",
       "      <td>28.510241</td>\n",
       "      <td>33.623100</td>\n",
       "      <td>5.655744</td>\n",
       "      <td>00:00</td>\n",
       "    </tr>\n",
       "    <tr>\n",
       "      <td>5</td>\n",
       "      <td>27.493746</td>\n",
       "      <td>35.639111</td>\n",
       "      <td>5.727894</td>\n",
       "      <td>00:00</td>\n",
       "    </tr>\n",
       "    <tr>\n",
       "      <td>6</td>\n",
       "      <td>26.553173</td>\n",
       "      <td>37.784531</td>\n",
       "      <td>5.898561</td>\n",
       "      <td>00:00</td>\n",
       "    </tr>\n",
       "    <tr>\n",
       "      <td>7</td>\n",
       "      <td>25.728050</td>\n",
       "      <td>37.318844</td>\n",
       "      <td>5.859699</td>\n",
       "      <td>00:00</td>\n",
       "    </tr>\n",
       "    <tr>\n",
       "      <td>8</td>\n",
       "      <td>25.103025</td>\n",
       "      <td>36.580029</td>\n",
       "      <td>5.800918</td>\n",
       "      <td>00:00</td>\n",
       "    </tr>\n",
       "    <tr>\n",
       "      <td>9</td>\n",
       "      <td>24.673706</td>\n",
       "      <td>36.831810</td>\n",
       "      <td>5.820598</td>\n",
       "      <td>00:00</td>\n",
       "    </tr>\n",
       "  </tbody>\n",
       "</table>"
      ],
      "text/plain": [
       "<IPython.core.display.HTML object>"
      ]
     },
     "metadata": {},
     "output_type": "display_data"
    }
   ],
   "source": [
    "learn.fit_one_cycle(10, 1e-1, wd = 0.2)"
   ]
  },
  {
   "cell_type": "code",
   "execution_count": 45,
   "metadata": {},
   "outputs": [],
   "source": [
    "row = df.iloc[0]"
   ]
  },
  {
   "cell_type": "code",
   "execution_count": 46,
   "metadata": {},
   "outputs": [
    {
     "data": {
      "text/plain": [
       "ID                                                                         1\n",
       "age                                                                       30\n",
       "sex                                                                     male\n",
       "cough                                                                     No\n",
       "fever                                                                     No\n",
       "chills                                                                    No\n",
       "sore_throat                                                               No\n",
       "headache                                                                  No\n",
       "fatigue                                                                   No\n",
       "urgency_of_admission                                                     Low\n",
       "days_onset_to_admission                                                    2\n",
       "symptoms                                                                 NaN\n",
       "city                                                 Chaohu City, Hefei City\n",
       "province                                                               Anhui\n",
       "country                                                                China\n",
       "latitude                                                              31.647\n",
       "longitude                                                            117.717\n",
       "geo_resolution                                                        admin3\n",
       "date_onset_symptoms                                               2020-01-18\n",
       "date_admission_hospital                                           2020-01-20\n",
       "date_confirmation                                                 2020-01-22\n",
       "date_death_or_discharge                                                  NaN\n",
       "source                     http://ah.people.com.cn/GB/n2/2020/0127/c35826...\n",
       "Name: 0, dtype: object"
      ]
     },
     "execution_count": 46,
     "metadata": {},
     "output_type": "execute_result"
    }
   ],
   "source": [
    "row"
   ]
  },
  {
   "cell_type": "code",
   "execution_count": 49,
   "metadata": {},
   "outputs": [
    {
     "name": "stderr",
     "output_type": "stream",
     "text": [
      "/opt/anaconda3/lib/python3.7/site-packages/pandas/core/generic.py:5208: SettingWithCopyWarning: \n",
      "A value is trying to be set on a copy of a slice from a DataFrame\n",
      "\n",
      "See the caveats in the documentation: http://pandas.pydata.org/pandas-docs/stable/user_guide/indexing.html#returning-a-view-versus-a-copy\n",
      "  self[name] = value\n"
     ]
    }
   ],
   "source": [
    "row.age = 24"
   ]
  },
  {
   "cell_type": "code",
   "execution_count": 73,
   "metadata": {},
   "outputs": [],
   "source": [
    "row.age = 50"
   ]
  },
  {
   "cell_type": "code",
   "execution_count": 74,
   "metadata": {},
   "outputs": [
    {
     "data": {
      "text/plain": [
       "ID                                                                         1\n",
       "age                                                                       50\n",
       "sex                                                                   female\n",
       "cough                                                                    Yes\n",
       "fever                                                                    Yes\n",
       "chills                                                                    No\n",
       "sore_throat                                                              Yes\n",
       "headache                                                                 Yes\n",
       "fatigue                                                                  Yes\n",
       "urgency_of_admission                                                     Low\n",
       "days_onset_to_admission                                                    2\n",
       "symptoms                                                                 NaN\n",
       "city                                                 Chaohu City, Hefei City\n",
       "province                                                               Anhui\n",
       "country                                                                China\n",
       "latitude                                                              31.647\n",
       "longitude                                                            117.717\n",
       "geo_resolution                                                        admin3\n",
       "date_onset_symptoms                                               2020-01-18\n",
       "date_admission_hospital                                           2020-01-20\n",
       "date_confirmation                                                 2020-01-22\n",
       "date_death_or_discharge                                                  NaN\n",
       "source                     http://ah.people.com.cn/GB/n2/2020/0127/c35826...\n",
       "Name: 0, dtype: object"
      ]
     },
     "execution_count": 74,
     "metadata": {},
     "output_type": "execute_result"
    }
   ],
   "source": [
    "row"
   ]
  },
  {
   "cell_type": "code",
   "execution_count": 75,
   "metadata": {},
   "outputs": [
    {
     "data": {
      "text/plain": [
       "(Category Low, tensor(1), tensor([0.2434, 0.7566]))"
      ]
     },
     "execution_count": 75,
     "metadata": {},
     "output_type": "execute_result"
    }
   ],
   "source": [
    "learn.predict(row)"
   ]
  },
  {
   "cell_type": "code",
   "execution_count": 76,
   "metadata": {},
   "outputs": [
    {
     "ename": "AttributeError",
     "evalue": "'TabularList' object has no attribute 'head'",
     "output_type": "error",
     "traceback": [
      "\u001b[0;31m---------------------------------------------------------------------------\u001b[0m",
      "\u001b[0;31mAttributeError\u001b[0m                            Traceback (most recent call last)",
      "\u001b[0;32m<ipython-input-76-ca7e793253ef>\u001b[0m in \u001b[0;36m<module>\u001b[0;34m\u001b[0m\n\u001b[0;32m----> 1\u001b[0;31m \u001b[0mtest\u001b[0m\u001b[0;34m.\u001b[0m\u001b[0mhead\u001b[0m\u001b[0;34m(\u001b[0m\u001b[0;34m)\u001b[0m\u001b[0;34m\u001b[0m\u001b[0;34m\u001b[0m\u001b[0m\n\u001b[0m",
      "\u001b[0;31mAttributeError\u001b[0m: 'TabularList' object has no attribute 'head'"
     ]
    }
   ],
   "source": [
    "test.head()"
   ]
  },
  {
   "cell_type": "code",
   "execution_count": 67,
   "metadata": {},
   "outputs": [],
   "source": [
    "testdf2 = df.iloc[520:641].copy()"
   ]
  },
  {
   "cell_type": "markdown",
   "metadata": {},
   "source": [
    "### This is for the continous variable"
   ]
  },
  {
   "cell_type": "code",
   "execution_count": 62,
   "metadata": {},
   "outputs": [],
   "source": [
    "testdf2 = df.iloc[690:861].copy()"
   ]
  },
  {
   "cell_type": "code",
   "execution_count": 68,
   "metadata": {},
   "outputs": [
    {
     "data": {
      "text/html": [
       "<div>\n",
       "<style scoped>\n",
       "    .dataframe tbody tr th:only-of-type {\n",
       "        vertical-align: middle;\n",
       "    }\n",
       "\n",
       "    .dataframe tbody tr th {\n",
       "        vertical-align: top;\n",
       "    }\n",
       "\n",
       "    .dataframe thead th {\n",
       "        text-align: right;\n",
       "    }\n",
       "</style>\n",
       "<table border=\"1\" class=\"dataframe\">\n",
       "  <thead>\n",
       "    <tr style=\"text-align: right;\">\n",
       "      <th></th>\n",
       "      <th>ID</th>\n",
       "      <th>age</th>\n",
       "      <th>sex</th>\n",
       "      <th>cough</th>\n",
       "      <th>fever</th>\n",
       "      <th>chills</th>\n",
       "      <th>sore_throat</th>\n",
       "      <th>headache</th>\n",
       "      <th>fatigue</th>\n",
       "      <th>urgency_of_admission</th>\n",
       "      <th>...</th>\n",
       "      <th>province</th>\n",
       "      <th>country</th>\n",
       "      <th>latitude</th>\n",
       "      <th>longitude</th>\n",
       "      <th>geo_resolution</th>\n",
       "      <th>date_onset_symptoms</th>\n",
       "      <th>date_admission_hospital</th>\n",
       "      <th>date_confirmation</th>\n",
       "      <th>date_death_or_discharge</th>\n",
       "      <th>source</th>\n",
       "    </tr>\n",
       "  </thead>\n",
       "  <tbody>\n",
       "    <tr>\n",
       "      <td>616</td>\n",
       "      <td>11814</td>\n",
       "      <td>60.0</td>\n",
       "      <td>male</td>\n",
       "      <td>No</td>\n",
       "      <td>Yes</td>\n",
       "      <td>No</td>\n",
       "      <td>No</td>\n",
       "      <td>No</td>\n",
       "      <td>No</td>\n",
       "      <td>Low</td>\n",
       "      <td>...</td>\n",
       "      <td>Aichi Prefecture</td>\n",
       "      <td>Japan</td>\n",
       "      <td>35.183330</td>\n",
       "      <td>136.900000</td>\n",
       "      <td>point</td>\n",
       "      <td>2020-02-19</td>\n",
       "      <td>2020-02-21</td>\n",
       "      <td>2020-02-22</td>\n",
       "      <td>NaN</td>\n",
       "      <td>https://www3.nhk.or.jp/news/html/20200222/k100...</td>\n",
       "    </tr>\n",
       "    <tr>\n",
       "      <td>617</td>\n",
       "      <td>11815</td>\n",
       "      <td>60.0</td>\n",
       "      <td>female</td>\n",
       "      <td>No</td>\n",
       "      <td>Yes</td>\n",
       "      <td>No</td>\n",
       "      <td>No</td>\n",
       "      <td>No</td>\n",
       "      <td>No</td>\n",
       "      <td>Low</td>\n",
       "      <td>...</td>\n",
       "      <td>Aichi Prefecture</td>\n",
       "      <td>Japan</td>\n",
       "      <td>35.183330</td>\n",
       "      <td>136.900000</td>\n",
       "      <td>point</td>\n",
       "      <td>2020-02-19</td>\n",
       "      <td>2020-02-21</td>\n",
       "      <td>2020-02-22</td>\n",
       "      <td>NaN</td>\n",
       "      <td>https://www3.nhk.or.jp/news/html/20200222/k100...</td>\n",
       "    </tr>\n",
       "    <tr>\n",
       "      <td>618</td>\n",
       "      <td>11816</td>\n",
       "      <td>40.0</td>\n",
       "      <td>female</td>\n",
       "      <td>No</td>\n",
       "      <td>Yes</td>\n",
       "      <td>No</td>\n",
       "      <td>No</td>\n",
       "      <td>No</td>\n",
       "      <td>No</td>\n",
       "      <td>Low</td>\n",
       "      <td>...</td>\n",
       "      <td>Aichi Prefecture</td>\n",
       "      <td>Japan</td>\n",
       "      <td>35.183330</td>\n",
       "      <td>136.900000</td>\n",
       "      <td>point</td>\n",
       "      <td>2020-02-19</td>\n",
       "      <td>2020-02-21</td>\n",
       "      <td>2020-02-22</td>\n",
       "      <td>NaN</td>\n",
       "      <td>https://www3.nhk.or.jp/news/html/20200222/k100...</td>\n",
       "    </tr>\n",
       "    <tr>\n",
       "      <td>619</td>\n",
       "      <td>11818</td>\n",
       "      <td>30.0</td>\n",
       "      <td>female</td>\n",
       "      <td>No</td>\n",
       "      <td>No</td>\n",
       "      <td>No</td>\n",
       "      <td>No</td>\n",
       "      <td>No</td>\n",
       "      <td>No</td>\n",
       "      <td>Low</td>\n",
       "      <td>...</td>\n",
       "      <td>NaN</td>\n",
       "      <td>Singapore</td>\n",
       "      <td>1.374872</td>\n",
       "      <td>103.886403</td>\n",
       "      <td>point</td>\n",
       "      <td>2020-02-16</td>\n",
       "      <td>2020-02-21</td>\n",
       "      <td>2020-02-21</td>\n",
       "      <td>2020-03-02</td>\n",
       "      <td>https://www.moh.gov.sg/news-highlights/details...</td>\n",
       "    </tr>\n",
       "    <tr>\n",
       "      <td>621</td>\n",
       "      <td>11865</td>\n",
       "      <td>96.0</td>\n",
       "      <td>female</td>\n",
       "      <td>Yes</td>\n",
       "      <td>Yes</td>\n",
       "      <td>No</td>\n",
       "      <td>No</td>\n",
       "      <td>No</td>\n",
       "      <td>No</td>\n",
       "      <td>Low</td>\n",
       "      <td>...</td>\n",
       "      <td>Hong Kong</td>\n",
       "      <td>China</td>\n",
       "      <td>22.282630</td>\n",
       "      <td>114.188121</td>\n",
       "      <td>point</td>\n",
       "      <td>2020-02-13</td>\n",
       "      <td>2020-02-22</td>\n",
       "      <td>2020-02-22</td>\n",
       "      <td>NaN</td>\n",
       "      <td>https://www.info.gov.hk/gia/general/202002/22/...</td>\n",
       "    </tr>\n",
       "  </tbody>\n",
       "</table>\n",
       "<p>5 rows × 23 columns</p>\n",
       "</div>"
      ],
      "text/plain": [
       "        ID   age     sex cough fever chills sore_throat headache fatigue  \\\n",
       "616  11814  60.0    male    No   Yes     No          No       No      No   \n",
       "617  11815  60.0  female    No   Yes     No          No       No      No   \n",
       "618  11816  40.0  female    No   Yes     No          No       No      No   \n",
       "619  11818  30.0  female    No    No     No          No       No      No   \n",
       "621  11865  96.0  female   Yes   Yes     No          No       No      No   \n",
       "\n",
       "    urgency_of_admission  ...          province    country   latitude  \\\n",
       "616                  Low  ...  Aichi Prefecture      Japan  35.183330   \n",
       "617                  Low  ...  Aichi Prefecture      Japan  35.183330   \n",
       "618                  Low  ...  Aichi Prefecture      Japan  35.183330   \n",
       "619                  Low  ...               NaN  Singapore   1.374872   \n",
       "621                  Low  ...         Hong Kong      China  22.282630   \n",
       "\n",
       "      longitude geo_resolution  date_onset_symptoms  date_admission_hospital  \\\n",
       "616  136.900000          point           2020-02-19               2020-02-21   \n",
       "617  136.900000          point           2020-02-19               2020-02-21   \n",
       "618  136.900000          point           2020-02-19               2020-02-21   \n",
       "619  103.886403          point           2020-02-16               2020-02-21   \n",
       "621  114.188121          point           2020-02-13               2020-02-22   \n",
       "\n",
       "    date_confirmation date_death_or_discharge  \\\n",
       "616        2020-02-22                     NaN   \n",
       "617        2020-02-22                     NaN   \n",
       "618        2020-02-22                     NaN   \n",
       "619        2020-02-21              2020-03-02   \n",
       "621        2020-02-22                     NaN   \n",
       "\n",
       "                                                source  \n",
       "616  https://www3.nhk.or.jp/news/html/20200222/k100...  \n",
       "617  https://www3.nhk.or.jp/news/html/20200222/k100...  \n",
       "618  https://www3.nhk.or.jp/news/html/20200222/k100...  \n",
       "619  https://www.moh.gov.sg/news-highlights/details...  \n",
       "621  https://www.info.gov.hk/gia/general/202002/22/...  \n",
       "\n",
       "[5 rows x 23 columns]"
      ]
     },
     "execution_count": 68,
     "metadata": {},
     "output_type": "execute_result"
    }
   ],
   "source": [
    "testdf2.head()"
   ]
  },
  {
   "cell_type": "code",
   "execution_count": 122,
   "metadata": {},
   "outputs": [
    {
     "data": {
      "text/plain": [
       "Low     150\n",
       "High     21\n",
       "Name: urgency_of_admission, dtype: int64"
      ]
     },
     "execution_count": 122,
     "metadata": {},
     "output_type": "execute_result"
    }
   ],
   "source": [
    "testdf2.urgency_of_admission.value_counts()"
   ]
  },
  {
   "cell_type": "code",
   "execution_count": 70,
   "metadata": {},
   "outputs": [
    {
     "data": {
      "text/plain": [
       "Index(['ID', 'age', 'sex', 'cough', 'fever', 'chills', 'sore_throat',\n",
       "       'headache', 'fatigue', 'urgency_of_admission',\n",
       "       'days_onset_to_admission', 'symptoms', 'city', 'province', 'country',\n",
       "       'latitude', 'longitude', 'geo_resolution', 'date_onset_symptoms',\n",
       "       'date_admission_hospital', 'date_confirmation',\n",
       "       'date_death_or_discharge', 'source'],\n",
       "      dtype='object')"
      ]
     },
     "execution_count": 70,
     "metadata": {},
     "output_type": "execute_result"
    }
   ],
   "source": [
    "testdf2.columns"
   ]
  },
  {
   "cell_type": "code",
   "execution_count": 89,
   "metadata": {},
   "outputs": [],
   "source": [
    "testdf2.drop(columns='', inplace= True)"
   ]
  },
  {
   "cell_type": "code",
   "execution_count": 63,
   "metadata": {},
   "outputs": [
    {
     "data": {
      "text/plain": [
       "Index(['ID', 'age', 'sex', 'cough', 'fever', 'chills', 'sore_throat',\n",
       "       'headache', 'fatigue', 'urgency_of_admission',\n",
       "       'days_onset_to_admission', 'symptoms', 'city', 'province', 'country',\n",
       "       'latitude', 'longitude', 'geo_resolution', 'date_onset_symptoms',\n",
       "       'date_admission_hospital', 'date_confirmation',\n",
       "       'date_death_or_discharge', 'source'],\n",
       "      dtype='object')"
      ]
     },
     "execution_count": 63,
     "metadata": {},
     "output_type": "execute_result"
    }
   ],
   "source": [
    "testdf2.columns"
   ]
  },
  {
   "cell_type": "code",
   "execution_count": 71,
   "metadata": {},
   "outputs": [],
   "source": [
    "row = testdf2.iloc[0]"
   ]
  },
  {
   "cell_type": "code",
   "execution_count": 78,
   "metadata": {},
   "outputs": [
    {
     "data": {
      "text/plain": [
       "3.66"
      ]
     },
     "execution_count": 78,
     "metadata": {},
     "output_type": "execute_result"
    }
   ],
   "source": [
    "round(float(str(learn.predict(row)[0])[1:-1]),2)"
   ]
  },
  {
   "cell_type": "code",
   "execution_count": 139,
   "metadata": {},
   "outputs": [],
   "source": [
    "testdf.drop(columns='predictions', inplace = True)"
   ]
  },
  {
   "cell_type": "code",
   "execution_count": 80,
   "metadata": {},
   "outputs": [],
   "source": [
    "testdf2.insert(0, 'predictions','')"
   ]
  },
  {
   "cell_type": "code",
   "execution_count": 82,
   "metadata": {},
   "outputs": [
    {
     "name": "stderr",
     "output_type": "stream",
     "text": [
      "/opt/anaconda3/lib/python3.7/site-packages/pandas/core/indexing.py:205: SettingWithCopyWarning: \n",
      "A value is trying to be set on a copy of a slice from a DataFrame\n",
      "\n",
      "See the caveats in the documentation: http://pandas.pydata.org/pandas-docs/stable/user_guide/indexing.html#returning-a-view-versus-a-copy\n",
      "  self._setitem_with_indexer(indexer, value)\n"
     ]
    }
   ],
   "source": [
    "for i in range(len(testdf2)):\n",
    "    row = testdf2.iloc[i][1:]\n",
    "    testdf2.predictions.iloc[i] = round(float(str(learn.predict(row)[0])[1:-1]),2)"
   ]
  },
  {
   "cell_type": "code",
   "execution_count": 83,
   "metadata": {},
   "outputs": [
    {
     "data": {
      "text/html": [
       "<div>\n",
       "<style scoped>\n",
       "    .dataframe tbody tr th:only-of-type {\n",
       "        vertical-align: middle;\n",
       "    }\n",
       "\n",
       "    .dataframe tbody tr th {\n",
       "        vertical-align: top;\n",
       "    }\n",
       "\n",
       "    .dataframe thead th {\n",
       "        text-align: right;\n",
       "    }\n",
       "</style>\n",
       "<table border=\"1\" class=\"dataframe\">\n",
       "  <thead>\n",
       "    <tr style=\"text-align: right;\">\n",
       "      <th></th>\n",
       "      <th>predictions</th>\n",
       "      <th>ID</th>\n",
       "      <th>age</th>\n",
       "      <th>sex</th>\n",
       "      <th>cough</th>\n",
       "      <th>fever</th>\n",
       "      <th>chills</th>\n",
       "      <th>sore_throat</th>\n",
       "      <th>headache</th>\n",
       "      <th>fatigue</th>\n",
       "      <th>...</th>\n",
       "      <th>province</th>\n",
       "      <th>country</th>\n",
       "      <th>latitude</th>\n",
       "      <th>longitude</th>\n",
       "      <th>geo_resolution</th>\n",
       "      <th>date_onset_symptoms</th>\n",
       "      <th>date_admission_hospital</th>\n",
       "      <th>date_confirmation</th>\n",
       "      <th>date_death_or_discharge</th>\n",
       "      <th>source</th>\n",
       "    </tr>\n",
       "  </thead>\n",
       "  <tbody>\n",
       "    <tr>\n",
       "      <td>616</td>\n",
       "      <td>3.66</td>\n",
       "      <td>11814</td>\n",
       "      <td>60.0</td>\n",
       "      <td>male</td>\n",
       "      <td>No</td>\n",
       "      <td>Yes</td>\n",
       "      <td>No</td>\n",
       "      <td>No</td>\n",
       "      <td>No</td>\n",
       "      <td>No</td>\n",
       "      <td>...</td>\n",
       "      <td>Aichi Prefecture</td>\n",
       "      <td>Japan</td>\n",
       "      <td>35.183330</td>\n",
       "      <td>136.900000</td>\n",
       "      <td>point</td>\n",
       "      <td>2020-02-19</td>\n",
       "      <td>2020-02-21</td>\n",
       "      <td>2020-02-22</td>\n",
       "      <td>NaN</td>\n",
       "      <td>https://www3.nhk.or.jp/news/html/20200222/k100...</td>\n",
       "    </tr>\n",
       "    <tr>\n",
       "      <td>617</td>\n",
       "      <td>3.76</td>\n",
       "      <td>11815</td>\n",
       "      <td>60.0</td>\n",
       "      <td>female</td>\n",
       "      <td>No</td>\n",
       "      <td>Yes</td>\n",
       "      <td>No</td>\n",
       "      <td>No</td>\n",
       "      <td>No</td>\n",
       "      <td>No</td>\n",
       "      <td>...</td>\n",
       "      <td>Aichi Prefecture</td>\n",
       "      <td>Japan</td>\n",
       "      <td>35.183330</td>\n",
       "      <td>136.900000</td>\n",
       "      <td>point</td>\n",
       "      <td>2020-02-19</td>\n",
       "      <td>2020-02-21</td>\n",
       "      <td>2020-02-22</td>\n",
       "      <td>NaN</td>\n",
       "      <td>https://www3.nhk.or.jp/news/html/20200222/k100...</td>\n",
       "    </tr>\n",
       "    <tr>\n",
       "      <td>618</td>\n",
       "      <td>3.65</td>\n",
       "      <td>11816</td>\n",
       "      <td>40.0</td>\n",
       "      <td>female</td>\n",
       "      <td>No</td>\n",
       "      <td>Yes</td>\n",
       "      <td>No</td>\n",
       "      <td>No</td>\n",
       "      <td>No</td>\n",
       "      <td>No</td>\n",
       "      <td>...</td>\n",
       "      <td>Aichi Prefecture</td>\n",
       "      <td>Japan</td>\n",
       "      <td>35.183330</td>\n",
       "      <td>136.900000</td>\n",
       "      <td>point</td>\n",
       "      <td>2020-02-19</td>\n",
       "      <td>2020-02-21</td>\n",
       "      <td>2020-02-22</td>\n",
       "      <td>NaN</td>\n",
       "      <td>https://www3.nhk.or.jp/news/html/20200222/k100...</td>\n",
       "    </tr>\n",
       "    <tr>\n",
       "      <td>619</td>\n",
       "      <td>3.68</td>\n",
       "      <td>11818</td>\n",
       "      <td>30.0</td>\n",
       "      <td>female</td>\n",
       "      <td>No</td>\n",
       "      <td>No</td>\n",
       "      <td>No</td>\n",
       "      <td>No</td>\n",
       "      <td>No</td>\n",
       "      <td>No</td>\n",
       "      <td>...</td>\n",
       "      <td>NaN</td>\n",
       "      <td>Singapore</td>\n",
       "      <td>1.374872</td>\n",
       "      <td>103.886403</td>\n",
       "      <td>point</td>\n",
       "      <td>2020-02-16</td>\n",
       "      <td>2020-02-21</td>\n",
       "      <td>2020-02-21</td>\n",
       "      <td>2020-03-02</td>\n",
       "      <td>https://www.moh.gov.sg/news-highlights/details...</td>\n",
       "    </tr>\n",
       "    <tr>\n",
       "      <td>621</td>\n",
       "      <td>4.14</td>\n",
       "      <td>11865</td>\n",
       "      <td>96.0</td>\n",
       "      <td>female</td>\n",
       "      <td>Yes</td>\n",
       "      <td>Yes</td>\n",
       "      <td>No</td>\n",
       "      <td>No</td>\n",
       "      <td>No</td>\n",
       "      <td>No</td>\n",
       "      <td>...</td>\n",
       "      <td>Hong Kong</td>\n",
       "      <td>China</td>\n",
       "      <td>22.282630</td>\n",
       "      <td>114.188121</td>\n",
       "      <td>point</td>\n",
       "      <td>2020-02-13</td>\n",
       "      <td>2020-02-22</td>\n",
       "      <td>2020-02-22</td>\n",
       "      <td>NaN</td>\n",
       "      <td>https://www.info.gov.hk/gia/general/202002/22/...</td>\n",
       "    </tr>\n",
       "  </tbody>\n",
       "</table>\n",
       "<p>5 rows × 24 columns</p>\n",
       "</div>"
      ],
      "text/plain": [
       "    predictions     ID   age     sex cough fever chills sore_throat headache  \\\n",
       "616        3.66  11814  60.0    male    No   Yes     No          No       No   \n",
       "617        3.76  11815  60.0  female    No   Yes     No          No       No   \n",
       "618        3.65  11816  40.0  female    No   Yes     No          No       No   \n",
       "619        3.68  11818  30.0  female    No    No     No          No       No   \n",
       "621        4.14  11865  96.0  female   Yes   Yes     No          No       No   \n",
       "\n",
       "    fatigue  ...          province    country   latitude   longitude  \\\n",
       "616      No  ...  Aichi Prefecture      Japan  35.183330  136.900000   \n",
       "617      No  ...  Aichi Prefecture      Japan  35.183330  136.900000   \n",
       "618      No  ...  Aichi Prefecture      Japan  35.183330  136.900000   \n",
       "619      No  ...               NaN  Singapore   1.374872  103.886403   \n",
       "621      No  ...         Hong Kong      China  22.282630  114.188121   \n",
       "\n",
       "    geo_resolution date_onset_symptoms  date_admission_hospital  \\\n",
       "616          point          2020-02-19               2020-02-21   \n",
       "617          point          2020-02-19               2020-02-21   \n",
       "618          point          2020-02-19               2020-02-21   \n",
       "619          point          2020-02-16               2020-02-21   \n",
       "621          point          2020-02-13               2020-02-22   \n",
       "\n",
       "     date_confirmation date_death_or_discharge  \\\n",
       "616         2020-02-22                     NaN   \n",
       "617         2020-02-22                     NaN   \n",
       "618         2020-02-22                     NaN   \n",
       "619         2020-02-21              2020-03-02   \n",
       "621         2020-02-22                     NaN   \n",
       "\n",
       "                                                source  \n",
       "616  https://www3.nhk.or.jp/news/html/20200222/k100...  \n",
       "617  https://www3.nhk.or.jp/news/html/20200222/k100...  \n",
       "618  https://www3.nhk.or.jp/news/html/20200222/k100...  \n",
       "619  https://www.moh.gov.sg/news-highlights/details...  \n",
       "621  https://www.info.gov.hk/gia/general/202002/22/...  \n",
       "\n",
       "[5 rows x 24 columns]"
      ]
     },
     "execution_count": 83,
     "metadata": {},
     "output_type": "execute_result"
    }
   ],
   "source": [
    "testdf2.head()"
   ]
  },
  {
   "cell_type": "code",
   "execution_count": 143,
   "metadata": {},
   "outputs": [
    {
     "data": {
      "text/plain": [
       "Low     160\n",
       "High     11\n",
       "Name: predictions, dtype: int64"
      ]
     },
     "execution_count": 143,
     "metadata": {},
     "output_type": "execute_result"
    }
   ],
   "source": [
    "testdf.predictions.value_counts()"
   ]
  },
  {
   "cell_type": "code",
   "execution_count": 144,
   "metadata": {},
   "outputs": [
    {
     "data": {
      "text/html": [
       "<div>\n",
       "<style scoped>\n",
       "    .dataframe tbody tr th:only-of-type {\n",
       "        vertical-align: middle;\n",
       "    }\n",
       "\n",
       "    .dataframe tbody tr th {\n",
       "        vertical-align: top;\n",
       "    }\n",
       "\n",
       "    .dataframe thead th {\n",
       "        text-align: right;\n",
       "    }\n",
       "</style>\n",
       "<table border=\"1\" class=\"dataframe\">\n",
       "  <thead>\n",
       "    <tr style=\"text-align: right;\">\n",
       "      <th></th>\n",
       "      <th>predictions</th>\n",
       "      <th>ID</th>\n",
       "      <th>age</th>\n",
       "      <th>sex</th>\n",
       "      <th>cough</th>\n",
       "      <th>fever</th>\n",
       "      <th>chills</th>\n",
       "      <th>sore_throat</th>\n",
       "      <th>headache</th>\n",
       "      <th>fatigue</th>\n",
       "      <th>...</th>\n",
       "      <th>province</th>\n",
       "      <th>country</th>\n",
       "      <th>latitude</th>\n",
       "      <th>longitude</th>\n",
       "      <th>geo_resolution</th>\n",
       "      <th>date_onset_symptoms</th>\n",
       "      <th>date_admission_hospital</th>\n",
       "      <th>date_confirmation</th>\n",
       "      <th>date_death_or_discharge</th>\n",
       "      <th>source</th>\n",
       "    </tr>\n",
       "  </thead>\n",
       "  <tbody>\n",
       "    <tr>\n",
       "      <td>703</td>\n",
       "      <td>High</td>\n",
       "      <td>12893</td>\n",
       "      <td>18.0</td>\n",
       "      <td>male</td>\n",
       "      <td>No</td>\n",
       "      <td>No</td>\n",
       "      <td>No</td>\n",
       "      <td>No</td>\n",
       "      <td>No</td>\n",
       "      <td>No</td>\n",
       "      <td>...</td>\n",
       "      <td>Castilla y Leon</td>\n",
       "      <td>Spain</td>\n",
       "      <td>41.767612</td>\n",
       "      <td>-4.780517</td>\n",
       "      <td>admin1</td>\n",
       "      <td>2020-02-24</td>\n",
       "      <td>2020-02-25</td>\n",
       "      <td>2020-02-27</td>\n",
       "      <td>NaN</td>\n",
       "      <td>https://elpais.com/Comentario/1582831600-308e8...</td>\n",
       "    </tr>\n",
       "    <tr>\n",
       "      <td>708</td>\n",
       "      <td>High</td>\n",
       "      <td>13459</td>\n",
       "      <td>40.0</td>\n",
       "      <td>female</td>\n",
       "      <td>No</td>\n",
       "      <td>No</td>\n",
       "      <td>Yes</td>\n",
       "      <td>No</td>\n",
       "      <td>Yes</td>\n",
       "      <td>Yes</td>\n",
       "      <td>...</td>\n",
       "      <td>Kanagawa Prefecture</td>\n",
       "      <td>Japan</td>\n",
       "      <td>35.566670</td>\n",
       "      <td>139.366700</td>\n",
       "      <td>point</td>\n",
       "      <td>2020-02-18</td>\n",
       "      <td>NaN</td>\n",
       "      <td>2020-02-27</td>\n",
       "      <td>NaN</td>\n",
       "      <td>https://www.mhlw.go.jp/content/10906000/000601...</td>\n",
       "    </tr>\n",
       "    <tr>\n",
       "      <td>712</td>\n",
       "      <td>High</td>\n",
       "      <td>13463</td>\n",
       "      <td>0.0</td>\n",
       "      <td>male</td>\n",
       "      <td>No</td>\n",
       "      <td>Yes</td>\n",
       "      <td>No</td>\n",
       "      <td>No</td>\n",
       "      <td>No</td>\n",
       "      <td>No</td>\n",
       "      <td>...</td>\n",
       "      <td>Hokkaido</td>\n",
       "      <td>Japan</td>\n",
       "      <td>42.817375</td>\n",
       "      <td>141.240905</td>\n",
       "      <td>point</td>\n",
       "      <td>2020-02-18</td>\n",
       "      <td>NaN</td>\n",
       "      <td>2020-02-28</td>\n",
       "      <td>NaN</td>\n",
       "      <td>https://www.mhlw.go.jp/content/10906000/000601...</td>\n",
       "    </tr>\n",
       "    <tr>\n",
       "      <td>733</td>\n",
       "      <td>High</td>\n",
       "      <td>14912</td>\n",
       "      <td>NaN</td>\n",
       "      <td>male</td>\n",
       "      <td>No</td>\n",
       "      <td>No</td>\n",
       "      <td>No</td>\n",
       "      <td>No</td>\n",
       "      <td>No</td>\n",
       "      <td>No</td>\n",
       "      <td>...</td>\n",
       "      <td>Hamburg</td>\n",
       "      <td>Germany</td>\n",
       "      <td>53.546610</td>\n",
       "      <td>10.020720</td>\n",
       "      <td>admin1</td>\n",
       "      <td>2020-02-25</td>\n",
       "      <td>2020-02-27</td>\n",
       "      <td>2020-02-27</td>\n",
       "      <td>NaN</td>\n",
       "      <td>https://www.hamburg.de/bgv/pressemeldungen/136...</td>\n",
       "    </tr>\n",
       "    <tr>\n",
       "      <td>746</td>\n",
       "      <td>High</td>\n",
       "      <td>15109</td>\n",
       "      <td>NaN</td>\n",
       "      <td>male</td>\n",
       "      <td>No</td>\n",
       "      <td>No</td>\n",
       "      <td>No</td>\n",
       "      <td>No</td>\n",
       "      <td>No</td>\n",
       "      <td>No</td>\n",
       "      <td>...</td>\n",
       "      <td>Baden-Wurttemberg</td>\n",
       "      <td>Germany</td>\n",
       "      <td>47.793360</td>\n",
       "      <td>8.915742</td>\n",
       "      <td>admin2</td>\n",
       "      <td>2020-03-03</td>\n",
       "      <td>NaN</td>\n",
       "      <td>2020-03-04</td>\n",
       "      <td>NaN</td>\n",
       "      <td>https://stm.baden-wuerttemberg.de/de/service/p...</td>\n",
       "    </tr>\n",
       "    <tr>\n",
       "      <td>747</td>\n",
       "      <td>High</td>\n",
       "      <td>15259</td>\n",
       "      <td>NaN</td>\n",
       "      <td>male</td>\n",
       "      <td>No</td>\n",
       "      <td>No</td>\n",
       "      <td>No</td>\n",
       "      <td>No</td>\n",
       "      <td>No</td>\n",
       "      <td>No</td>\n",
       "      <td>...</td>\n",
       "      <td>Schleswig-Holstein</td>\n",
       "      <td>Germany</td>\n",
       "      <td>53.920290</td>\n",
       "      <td>10.141090</td>\n",
       "      <td>admin2</td>\n",
       "      <td>2020-02-25</td>\n",
       "      <td>NaN</td>\n",
       "      <td>2020-02-28</td>\n",
       "      <td>NaN</td>\n",
       "      <td>https://www.schleswig-holstein.de/DE/Landesreg...</td>\n",
       "    </tr>\n",
       "    <tr>\n",
       "      <td>760</td>\n",
       "      <td>High</td>\n",
       "      <td>18530</td>\n",
       "      <td>12.0</td>\n",
       "      <td>female</td>\n",
       "      <td>No</td>\n",
       "      <td>No</td>\n",
       "      <td>No</td>\n",
       "      <td>No</td>\n",
       "      <td>No</td>\n",
       "      <td>No</td>\n",
       "      <td>...</td>\n",
       "      <td>NaN</td>\n",
       "      <td>Malta</td>\n",
       "      <td>35.923040</td>\n",
       "      <td>14.399690</td>\n",
       "      <td>admin0</td>\n",
       "      <td>2020-03-06</td>\n",
       "      <td>NaN</td>\n",
       "      <td>2020-03-07</td>\n",
       "      <td>NaN</td>\n",
       "      <td>https://news.trust.org/item/20200307102758-m8hf2</td>\n",
       "    </tr>\n",
       "    <tr>\n",
       "      <td>762</td>\n",
       "      <td>High</td>\n",
       "      <td>18855</td>\n",
       "      <td>18.0</td>\n",
       "      <td>female</td>\n",
       "      <td>No</td>\n",
       "      <td>No</td>\n",
       "      <td>No</td>\n",
       "      <td>No</td>\n",
       "      <td>No</td>\n",
       "      <td>No</td>\n",
       "      <td>...</td>\n",
       "      <td>Kansas</td>\n",
       "      <td>United States</td>\n",
       "      <td>38.883624</td>\n",
       "      <td>-94.822346</td>\n",
       "      <td>admin2</td>\n",
       "      <td>2020-03-01</td>\n",
       "      <td>2020-03-02</td>\n",
       "      <td>2020-03-07</td>\n",
       "      <td>NaN</td>\n",
       "      <td>https://www.kcur.org/post/first-case-coronavir...</td>\n",
       "    </tr>\n",
       "    <tr>\n",
       "      <td>771</td>\n",
       "      <td>High</td>\n",
       "      <td>19877</td>\n",
       "      <td>20.0</td>\n",
       "      <td>female</td>\n",
       "      <td>No</td>\n",
       "      <td>No</td>\n",
       "      <td>No</td>\n",
       "      <td>No</td>\n",
       "      <td>No</td>\n",
       "      <td>No</td>\n",
       "      <td>...</td>\n",
       "      <td>Victoria</td>\n",
       "      <td>Australia</td>\n",
       "      <td>-37.813600</td>\n",
       "      <td>144.963100</td>\n",
       "      <td>point</td>\n",
       "      <td>2020-02-29</td>\n",
       "      <td>NaN</td>\n",
       "      <td>2020-03-10</td>\n",
       "      <td>NaN</td>\n",
       "      <td>https://www2.health.vic.gov.au/about/media-cen...</td>\n",
       "    </tr>\n",
       "    <tr>\n",
       "      <td>810</td>\n",
       "      <td>High</td>\n",
       "      <td>20282</td>\n",
       "      <td>30.0</td>\n",
       "      <td>NaN</td>\n",
       "      <td>No</td>\n",
       "      <td>No</td>\n",
       "      <td>No</td>\n",
       "      <td>No</td>\n",
       "      <td>No</td>\n",
       "      <td>No</td>\n",
       "      <td>...</td>\n",
       "      <td>Minnesota</td>\n",
       "      <td>United States</td>\n",
       "      <td>45.019780</td>\n",
       "      <td>-93.099528</td>\n",
       "      <td>admin2</td>\n",
       "      <td>2020-03-06</td>\n",
       "      <td>2020-03-10</td>\n",
       "      <td>2020-03-11</td>\n",
       "      <td>NaN</td>\n",
       "      <td>https://minnesota.cbslocal.com/2020/03/11/coro...</td>\n",
       "    </tr>\n",
       "    <tr>\n",
       "      <td>840</td>\n",
       "      <td>High</td>\n",
       "      <td>20601</td>\n",
       "      <td>20.0</td>\n",
       "      <td>female</td>\n",
       "      <td>No</td>\n",
       "      <td>No</td>\n",
       "      <td>No</td>\n",
       "      <td>No</td>\n",
       "      <td>No</td>\n",
       "      <td>No</td>\n",
       "      <td>...</td>\n",
       "      <td>Sejong</td>\n",
       "      <td>South Korea</td>\n",
       "      <td>36.507160</td>\n",
       "      <td>127.262300</td>\n",
       "      <td>point</td>\n",
       "      <td>2020-02-27</td>\n",
       "      <td>NaN</td>\n",
       "      <td>2020-03-07</td>\n",
       "      <td>NaN</td>\n",
       "      <td>https://www.sejong.go.kr/bbs/R3340/list.do</td>\n",
       "    </tr>\n",
       "  </tbody>\n",
       "</table>\n",
       "<p>11 rows × 23 columns</p>\n",
       "</div>"
      ],
      "text/plain": [
       "    predictions     ID   age     sex cough fever chills sore_throat headache  \\\n",
       "703        High  12893  18.0    male    No    No     No          No       No   \n",
       "708        High  13459  40.0  female    No    No    Yes          No      Yes   \n",
       "712        High  13463   0.0    male    No   Yes     No          No       No   \n",
       "733        High  14912   NaN    male    No    No     No          No       No   \n",
       "746        High  15109   NaN    male    No    No     No          No       No   \n",
       "747        High  15259   NaN    male    No    No     No          No       No   \n",
       "760        High  18530  12.0  female    No    No     No          No       No   \n",
       "762        High  18855  18.0  female    No    No     No          No       No   \n",
       "771        High  19877  20.0  female    No    No     No          No       No   \n",
       "810        High  20282  30.0     NaN    No    No     No          No       No   \n",
       "840        High  20601  20.0  female    No    No     No          No       No   \n",
       "\n",
       "    fatigue  ...             province        country   latitude   longitude  \\\n",
       "703      No  ...      Castilla y Leon          Spain  41.767612   -4.780517   \n",
       "708     Yes  ...  Kanagawa Prefecture          Japan  35.566670  139.366700   \n",
       "712      No  ...             Hokkaido          Japan  42.817375  141.240905   \n",
       "733      No  ...              Hamburg        Germany  53.546610   10.020720   \n",
       "746      No  ...    Baden-Wurttemberg        Germany  47.793360    8.915742   \n",
       "747      No  ...   Schleswig-Holstein        Germany  53.920290   10.141090   \n",
       "760      No  ...                  NaN          Malta  35.923040   14.399690   \n",
       "762      No  ...               Kansas  United States  38.883624  -94.822346   \n",
       "771      No  ...             Victoria      Australia -37.813600  144.963100   \n",
       "810      No  ...            Minnesota  United States  45.019780  -93.099528   \n",
       "840      No  ...               Sejong    South Korea  36.507160  127.262300   \n",
       "\n",
       "    geo_resolution  date_onset_symptoms  date_admission_hospital  \\\n",
       "703         admin1           2020-02-24               2020-02-25   \n",
       "708          point           2020-02-18                      NaN   \n",
       "712          point           2020-02-18                      NaN   \n",
       "733         admin1           2020-02-25               2020-02-27   \n",
       "746         admin2           2020-03-03                      NaN   \n",
       "747         admin2           2020-02-25                      NaN   \n",
       "760         admin0           2020-03-06                      NaN   \n",
       "762         admin2           2020-03-01               2020-03-02   \n",
       "771          point           2020-02-29                      NaN   \n",
       "810         admin2           2020-03-06               2020-03-10   \n",
       "840          point           2020-02-27                      NaN   \n",
       "\n",
       "    date_confirmation date_death_or_discharge  \\\n",
       "703        2020-02-27                     NaN   \n",
       "708        2020-02-27                     NaN   \n",
       "712        2020-02-28                     NaN   \n",
       "733        2020-02-27                     NaN   \n",
       "746        2020-03-04                     NaN   \n",
       "747        2020-02-28                     NaN   \n",
       "760        2020-03-07                     NaN   \n",
       "762        2020-03-07                     NaN   \n",
       "771        2020-03-10                     NaN   \n",
       "810        2020-03-11                     NaN   \n",
       "840        2020-03-07                     NaN   \n",
       "\n",
       "                                                source  \n",
       "703  https://elpais.com/Comentario/1582831600-308e8...  \n",
       "708  https://www.mhlw.go.jp/content/10906000/000601...  \n",
       "712  https://www.mhlw.go.jp/content/10906000/000601...  \n",
       "733  https://www.hamburg.de/bgv/pressemeldungen/136...  \n",
       "746  https://stm.baden-wuerttemberg.de/de/service/p...  \n",
       "747  https://www.schleswig-holstein.de/DE/Landesreg...  \n",
       "760   https://news.trust.org/item/20200307102758-m8hf2  \n",
       "762  https://www.kcur.org/post/first-case-coronavir...  \n",
       "771  https://www2.health.vic.gov.au/about/media-cen...  \n",
       "810  https://minnesota.cbslocal.com/2020/03/11/coro...  \n",
       "840         https://www.sejong.go.kr/bbs/R3340/list.do  \n",
       "\n",
       "[11 rows x 23 columns]"
      ]
     },
     "execution_count": 144,
     "metadata": {},
     "output_type": "execute_result"
    }
   ],
   "source": [
    "testdf[testdf.predictions == 'High']"
   ]
  },
  {
   "cell_type": "code",
   "execution_count": null,
   "metadata": {},
   "outputs": [],
   "source": []
  }
 ],
 "metadata": {
  "kernelspec": {
   "display_name": "Python 3",
   "language": "python",
   "name": "python3"
  },
  "language_info": {
   "codemirror_mode": {
    "name": "ipython",
    "version": 3
   },
   "file_extension": ".py",
   "mimetype": "text/x-python",
   "name": "python",
   "nbconvert_exporter": "python",
   "pygments_lexer": "ipython3",
   "version": "3.7.5"
  }
 },
 "nbformat": 4,
 "nbformat_minor": 4
}
