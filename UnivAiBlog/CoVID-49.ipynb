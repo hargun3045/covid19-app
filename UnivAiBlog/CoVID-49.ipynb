{
 "cells": [
  {
   "cell_type": "markdown",
   "metadata": {},
   "source": [
    "# Big Brother - Healthcare edition"
   ]
  },
  {
   "cell_type": "markdown",
   "metadata": {},
   "source": [
    "### Building a classifier using the [fastai](https://www.fast.ai/) library "
   ]
  },
  {
   "cell_type": "code",
   "execution_count": 1,
   "metadata": {},
   "outputs": [],
   "source": [
    "from fastai.tabular import *"
   ]
  },
  {
   "cell_type": "code",
   "execution_count": 2,
   "metadata": {},
   "outputs": [],
   "source": [
    "#hide\n",
    "path = Path('./covid19_ml_education')"
   ]
  },
  {
   "cell_type": "code",
   "execution_count": 17,
   "metadata": {},
   "outputs": [],
   "source": [
    "df = pd.read_csv(path/'covid_ml.csv')"
   ]
  },
  {
   "cell_type": "code",
   "execution_count": 18,
   "metadata": {},
   "outputs": [
    {
     "data": {
      "text/html": [
       "<div>\n",
       "<style scoped>\n",
       "    .dataframe tbody tr th:only-of-type {\n",
       "        vertical-align: middle;\n",
       "    }\n",
       "\n",
       "    .dataframe tbody tr th {\n",
       "        vertical-align: top;\n",
       "    }\n",
       "\n",
       "    .dataframe thead th {\n",
       "        text-align: right;\n",
       "    }\n",
       "</style>\n",
       "<table border=\"1\" class=\"dataframe\">\n",
       "  <thead>\n",
       "    <tr style=\"text-align: right;\">\n",
       "      <th></th>\n",
       "      <th>ID</th>\n",
       "      <th>age</th>\n",
       "      <th>sex</th>\n",
       "      <th>cough</th>\n",
       "      <th>fever</th>\n",
       "      <th>chills</th>\n",
       "      <th>sore_throat</th>\n",
       "      <th>headache</th>\n",
       "      <th>fatigue</th>\n",
       "      <th>urgency_of_admission</th>\n",
       "      <th>...</th>\n",
       "      <th>province</th>\n",
       "      <th>country</th>\n",
       "      <th>latitude</th>\n",
       "      <th>longitude</th>\n",
       "      <th>geo_resolution</th>\n",
       "      <th>date_onset_symptoms</th>\n",
       "      <th>date_admission_hospital</th>\n",
       "      <th>date_confirmation</th>\n",
       "      <th>date_death_or_discharge</th>\n",
       "      <th>source</th>\n",
       "    </tr>\n",
       "  </thead>\n",
       "  <tbody>\n",
       "    <tr>\n",
       "      <th>0</th>\n",
       "      <td>1</td>\n",
       "      <td>30.0</td>\n",
       "      <td>male</td>\n",
       "      <td>No</td>\n",
       "      <td>No</td>\n",
       "      <td>No</td>\n",
       "      <td>No</td>\n",
       "      <td>No</td>\n",
       "      <td>No</td>\n",
       "      <td>Low</td>\n",
       "      <td>...</td>\n",
       "      <td>Anhui</td>\n",
       "      <td>China</td>\n",
       "      <td>31.646960</td>\n",
       "      <td>117.716600</td>\n",
       "      <td>admin3</td>\n",
       "      <td>2020-01-18</td>\n",
       "      <td>2020-01-20</td>\n",
       "      <td>2020-01-22</td>\n",
       "      <td>NaN</td>\n",
       "      <td>http://ah.people.com.cn/GB/n2/2020/0127/c35826...</td>\n",
       "    </tr>\n",
       "    <tr>\n",
       "      <th>1</th>\n",
       "      <td>2</td>\n",
       "      <td>47.0</td>\n",
       "      <td>male</td>\n",
       "      <td>No</td>\n",
       "      <td>No</td>\n",
       "      <td>No</td>\n",
       "      <td>No</td>\n",
       "      <td>No</td>\n",
       "      <td>No</td>\n",
       "      <td>Low</td>\n",
       "      <td>...</td>\n",
       "      <td>Anhui</td>\n",
       "      <td>China</td>\n",
       "      <td>31.778630</td>\n",
       "      <td>117.331900</td>\n",
       "      <td>admin3</td>\n",
       "      <td>2020-01-10</td>\n",
       "      <td>2020-01-21</td>\n",
       "      <td>2020-01-23</td>\n",
       "      <td>NaN</td>\n",
       "      <td>http://ah.people.com.cn/GB/n2/2020/0127/c35826...</td>\n",
       "    </tr>\n",
       "    <tr>\n",
       "      <th>2</th>\n",
       "      <td>3</td>\n",
       "      <td>49.0</td>\n",
       "      <td>male</td>\n",
       "      <td>No</td>\n",
       "      <td>No</td>\n",
       "      <td>No</td>\n",
       "      <td>No</td>\n",
       "      <td>No</td>\n",
       "      <td>No</td>\n",
       "      <td>Low</td>\n",
       "      <td>...</td>\n",
       "      <td>Anhui</td>\n",
       "      <td>China</td>\n",
       "      <td>31.828313</td>\n",
       "      <td>117.224844</td>\n",
       "      <td>point</td>\n",
       "      <td>2020-01-15</td>\n",
       "      <td>2020-01-20</td>\n",
       "      <td>2020-01-23</td>\n",
       "      <td>NaN</td>\n",
       "      <td>http://ah.people.com.cn/GB/n2/2020/0127/c35826...</td>\n",
       "    </tr>\n",
       "  </tbody>\n",
       "</table>\n",
       "<p>3 rows × 23 columns</p>\n",
       "</div>"
      ],
      "text/plain": [
       "  ID   age   sex cough fever chills sore_throat headache fatigue  \\\n",
       "0  1  30.0  male    No    No     No          No       No      No   \n",
       "1  2  47.0  male    No    No     No          No       No      No   \n",
       "2  3  49.0  male    No    No     No          No       No      No   \n",
       "\n",
       "  urgency_of_admission  ...  province country   latitude   longitude  \\\n",
       "0                  Low  ...     Anhui   China  31.646960  117.716600   \n",
       "1                  Low  ...     Anhui   China  31.778630  117.331900   \n",
       "2                  Low  ...     Anhui   China  31.828313  117.224844   \n",
       "\n",
       "  geo_resolution  date_onset_symptoms  date_admission_hospital  \\\n",
       "0         admin3           2020-01-18               2020-01-20   \n",
       "1         admin3           2020-01-10               2020-01-21   \n",
       "2          point           2020-01-15               2020-01-20   \n",
       "\n",
       "  date_confirmation date_death_or_discharge  \\\n",
       "0        2020-01-22                     NaN   \n",
       "1        2020-01-23                     NaN   \n",
       "2        2020-01-23                     NaN   \n",
       "\n",
       "                                              source  \n",
       "0  http://ah.people.com.cn/GB/n2/2020/0127/c35826...  \n",
       "1  http://ah.people.com.cn/GB/n2/2020/0127/c35826...  \n",
       "2  http://ah.people.com.cn/GB/n2/2020/0127/c35826...  \n",
       "\n",
       "[3 rows x 23 columns]"
      ]
     },
     "execution_count": 18,
     "metadata": {},
     "output_type": "execute_result"
    }
   ],
   "source": [
    "df.head(3)"
   ]
  },
  {
   "cell_type": "markdown",
   "metadata": {},
   "source": [
    "## Independent variable\n",
    "\n",
    "This is the value we want to predict"
   ]
  },
  {
   "cell_type": "code",
   "execution_count": 19,
   "metadata": {},
   "outputs": [],
   "source": [
    "y_col = 'urgency_of_admission'"
   ]
  },
  {
   "cell_type": "markdown",
   "metadata": {},
   "source": [
    "## Dependent variable\n",
    "\n",
    "The values on which we can make a prediciton"
   ]
  },
  {
   "cell_type": "code",
   "execution_count": 20,
   "metadata": {},
   "outputs": [],
   "source": [
    "cat_names = ['sex', 'cough', 'fever', 'chills', 'sore_throat', 'headache', 'fatigue']"
   ]
  },
  {
   "cell_type": "code",
   "execution_count": 21,
   "metadata": {},
   "outputs": [],
   "source": [
    "cat_names = ['sex', 'cough', 'fever', 'headache', 'fatigue']"
   ]
  },
  {
   "cell_type": "code",
   "execution_count": 22,
   "metadata": {},
   "outputs": [],
   "source": [
    "cont_names = ['age']"
   ]
  },
  {
   "cell_type": "code",
   "execution_count": 23,
   "metadata": {},
   "outputs": [],
   "source": [
    "#hide\n",
    "procs = [FillMissing, Categorify, Normalize]"
   ]
  },
  {
   "cell_type": "code",
   "execution_count": 148,
   "metadata": {},
   "outputs": [],
   "source": [
    "#hide\n",
    "test = TabularList.from_df(df.iloc[660:861].copy(), path = path, cat_names= cat_names, cont_names = cont_names)"
   ]
  },
  {
   "cell_type": "code",
   "execution_count": 24,
   "metadata": {},
   "outputs": [],
   "source": [
    "data = (TabularList.from_df(df, path=path, cat_names=cat_names, cont_names=cont_names, procs = procs)\n",
    "         .split_by_rand_pct(0.2)\n",
    "         .label_from_df(cols=y_col)\n",
    "#          .add_test(test)\n",
    "         .databunch()   )"
   ]
  },
  {
   "cell_type": "code",
   "execution_count": 25,
   "metadata": {},
   "outputs": [
    {
     "data": {
      "text/html": [
       "<table border=\"1\" class=\"dataframe\">\n",
       "  <thead>\n",
       "    <tr style=\"text-align: right;\">\n",
       "      <th>sex</th>\n",
       "      <th>cough</th>\n",
       "      <th>fever</th>\n",
       "      <th>headache</th>\n",
       "      <th>fatigue</th>\n",
       "      <th>age_na</th>\n",
       "      <th>age</th>\n",
       "      <th>target</th>\n",
       "    </tr>\n",
       "  </thead>\n",
       "  <tbody>\n",
       "    <tr>\n",
       "      <td>male</td>\n",
       "      <td>No</td>\n",
       "      <td>No</td>\n",
       "      <td>No</td>\n",
       "      <td>No</td>\n",
       "      <td>False</td>\n",
       "      <td>-0.9697</td>\n",
       "      <td>Low</td>\n",
       "    </tr>\n",
       "    <tr>\n",
       "      <td>female</td>\n",
       "      <td>No</td>\n",
       "      <td>No</td>\n",
       "      <td>No</td>\n",
       "      <td>No</td>\n",
       "      <td>False</td>\n",
       "      <td>-0.3673</td>\n",
       "      <td>Low</td>\n",
       "    </tr>\n",
       "    <tr>\n",
       "      <td>female</td>\n",
       "      <td>Yes</td>\n",
       "      <td>No</td>\n",
       "      <td>No</td>\n",
       "      <td>No</td>\n",
       "      <td>False</td>\n",
       "      <td>0.8373</td>\n",
       "      <td>Low</td>\n",
       "    </tr>\n",
       "    <tr>\n",
       "      <td>female</td>\n",
       "      <td>Yes</td>\n",
       "      <td>Yes</td>\n",
       "      <td>No</td>\n",
       "      <td>No</td>\n",
       "      <td>False</td>\n",
       "      <td>-0.0059</td>\n",
       "      <td>High</td>\n",
       "    </tr>\n",
       "    <tr>\n",
       "      <td>male</td>\n",
       "      <td>No</td>\n",
       "      <td>No</td>\n",
       "      <td>No</td>\n",
       "      <td>No</td>\n",
       "      <td>False</td>\n",
       "      <td>1.4999</td>\n",
       "      <td>Low</td>\n",
       "    </tr>\n",
       "  </tbody>\n",
       "</table>"
      ],
      "text/plain": [
       "<IPython.core.display.HTML object>"
      ]
     },
     "metadata": {},
     "output_type": "display_data"
    }
   ],
   "source": [
    "data.show_batch(rows=5)"
   ]
  },
  {
   "cell_type": "markdown",
   "metadata": {},
   "source": [
    "## Model\n",
    "\n",
    "Here we build our machine learning model that will learn from the dataset to classify between patients"
   ]
  },
  {
   "cell_type": "markdown",
   "metadata": {},
   "source": [
    "### Using Focal Loss"
   ]
  },
  {
   "cell_type": "code",
   "execution_count": 13,
   "metadata": {},
   "outputs": [],
   "source": [
    "import torch\n",
    "import torch.nn as nn\n",
    "import torch.nn.functional as F\n",
    "from torch.autograd import Variable\n",
    "\n",
    "class FocalLoss(nn.Module):\n",
    "    def __init__(self, gamma=0, alpha=None, size_average=True):\n",
    "        super(FocalLoss, self).__init__()\n",
    "        self.gamma = gamma\n",
    "        self.alpha = alpha\n",
    "        if isinstance(alpha,(float,int)): self.alpha = torch.Tensor([alpha,1-alpha])\n",
    "        if isinstance(alpha,list): self.alpha = torch.Tensor(alpha)\n",
    "        self.size_average = size_average\n",
    "\n",
    "    def forward(self, input, target):\n",
    "        if input.dim()>2:\n",
    "            input = input.view(input.size(0),input.size(1),-1)  # N,C,H,W => N,C,H*W\n",
    "            input = input.transpose(1,2)    # N,C,H*W => N,H*W,C\n",
    "            input = input.contiguous().view(-1,input.size(2))   # N,H*W,C => N*H*W,C\n",
    "        target = target.view(-1,1)\n",
    "\n",
    "        logpt = F.log_softmax(input)\n",
    "        logpt = logpt.gather(1,target)\n",
    "        logpt = logpt.view(-1)\n",
    "        pt = Variable(logpt.data.exp())\n",
    "\n",
    "        if self.alpha is not None:\n",
    "            if self.alpha.type()!=input.data.type():\n",
    "                self.alpha = self.alpha.type_as(input.data)\n",
    "            at = self.alpha.gather(0,target.data.view(-1))\n",
    "            logpt = logpt * Variable(at)\n",
    "\n",
    "        loss = -1 * (1-pt)**self.gamma * logpt\n",
    "        if self.size_average: return loss.mean()\n",
    "        else: return loss.sum()\n"
   ]
  },
  {
   "cell_type": "code",
   "execution_count": 26,
   "metadata": {},
   "outputs": [],
   "source": [
    "learn = tabular_learner(data, layers = [150,50], \\\n",
    "                        metrics = [accuracy,FBeta(\"macro\")])"
   ]
  },
  {
   "cell_type": "code",
   "execution_count": 27,
   "metadata": {},
   "outputs": [
    {
     "data": {
      "text/plain": [
       "Learner(data=TabularDataBunch;\n",
       "\n",
       "Train: LabelList (689 items)\n",
       "x: TabularList\n",
       "sex male; cough No; fever No; headache No; fatigue No; age_na False; age -0.9697; ,sex male; cough No; fever No; headache No; fatigue No; age_na False; age 0.1748; ,sex female; cough No; fever No; headache No; fatigue No; age_na False; age 0.0543; ,sex female; cough No; fever No; headache No; fatigue No; age_na False; age 0.2350; ,sex female; cough No; fever Yes; headache No; fatigue No; age_na False; age -0.2469; \n",
       "y: CategoryList\n",
       "Low,Low,Low,Low,High\n",
       "Path: covid19_ml_education;\n",
       "\n",
       "Valid: LabelList (172 items)\n",
       "x: TabularList\n",
       "sex male; cough Yes; fever Yes; headache No; fatigue Yes; age_na False; age 0.8373; ,sex female; cough No; fever No; headache No; fatigue No; age_na False; age -0.1264; ,sex female; cough No; fever Yes; headache No; fatigue No; age_na True; age -0.0059; ,sex #na#; cough No; fever No; headache No; fatigue No; age_na False; age 0.2350; ,sex male; cough No; fever No; headache No; fatigue No; age_na False; age 0.2350; \n",
       "y: CategoryList\n",
       "Low,High,High,Low,Low\n",
       "Path: covid19_ml_education;\n",
       "\n",
       "Test: None, model=TabularModel(\n",
       "  (embeds): ModuleList(\n",
       "    (0): Embedding(3, 3)\n",
       "    (1): Embedding(3, 3)\n",
       "    (2): Embedding(3, 3)\n",
       "    (3): Embedding(3, 3)\n",
       "    (4): Embedding(3, 3)\n",
       "    (5): Embedding(3, 3)\n",
       "  )\n",
       "  (emb_drop): Dropout(p=0.0, inplace=False)\n",
       "  (bn_cont): BatchNorm1d(1, eps=1e-05, momentum=0.1, affine=True, track_running_stats=True)\n",
       "  (layers): Sequential(\n",
       "    (0): Linear(in_features=19, out_features=150, bias=True)\n",
       "    (1): ReLU(inplace=True)\n",
       "    (2): BatchNorm1d(150, eps=1e-05, momentum=0.1, affine=True, track_running_stats=True)\n",
       "    (3): Linear(in_features=150, out_features=50, bias=True)\n",
       "    (4): ReLU(inplace=True)\n",
       "    (5): BatchNorm1d(50, eps=1e-05, momentum=0.1, affine=True, track_running_stats=True)\n",
       "    (6): Linear(in_features=50, out_features=2, bias=True)\n",
       "  )\n",
       "), opt_func=functools.partial(<class 'torch.optim.adam.Adam'>, betas=(0.9, 0.99)), loss_func=FlattenedLoss of CrossEntropyLoss(), metrics=[<function accuracy at 0x10b684710>, FBeta(average='macro', pos_label=1, eps=1e-09, beta=2)], true_wd=True, bn_wd=True, wd=0.01, train_bn=True, path=PosixPath('covid19_ml_education'), model_dir='models', callback_fns=[functools.partial(<class 'fastai.basic_train.Recorder'>, add_time=True, silent=False)], callbacks=[], layer_groups=[Sequential(\n",
       "  (0): Embedding(3, 3)\n",
       "  (1): Embedding(3, 3)\n",
       "  (2): Embedding(3, 3)\n",
       "  (3): Embedding(3, 3)\n",
       "  (4): Embedding(3, 3)\n",
       "  (5): Embedding(3, 3)\n",
       "  (6): Dropout(p=0.0, inplace=False)\n",
       "  (7): BatchNorm1d(1, eps=1e-05, momentum=0.1, affine=True, track_running_stats=True)\n",
       "  (8): Linear(in_features=19, out_features=150, bias=True)\n",
       "  (9): ReLU(inplace=True)\n",
       "  (10): BatchNorm1d(150, eps=1e-05, momentum=0.1, affine=True, track_running_stats=True)\n",
       "  (11): Linear(in_features=150, out_features=50, bias=True)\n",
       "  (12): ReLU(inplace=True)\n",
       "  (13): BatchNorm1d(50, eps=1e-05, momentum=0.1, affine=True, track_running_stats=True)\n",
       "  (14): Linear(in_features=50, out_features=2, bias=True)\n",
       ")], add_time=True, silent=False)"
      ]
     },
     "execution_count": 27,
     "metadata": {},
     "output_type": "execute_result"
    }
   ],
   "source": [
    "learn.load('150-50-focal')"
   ]
  },
  {
   "cell_type": "code",
   "execution_count": 338,
   "metadata": {},
   "outputs": [],
   "source": [
    "learn.loss_func = FocalLoss()"
   ]
  },
  {
   "cell_type": "code",
   "execution_count": 341,
   "metadata": {},
   "outputs": [
    {
     "data": {
      "text/html": [
       "<table border=\"1\" class=\"dataframe\">\n",
       "  <thead>\n",
       "    <tr style=\"text-align: left;\">\n",
       "      <th>epoch</th>\n",
       "      <th>train_loss</th>\n",
       "      <th>valid_loss</th>\n",
       "      <th>accuracy</th>\n",
       "      <th>f_beta</th>\n",
       "      <th>time</th>\n",
       "    </tr>\n",
       "  </thead>\n",
       "  <tbody>\n",
       "    <tr>\n",
       "      <td>0</td>\n",
       "      <td>0.673548</td>\n",
       "      <td>0.680910</td>\n",
       "      <td>0.558140</td>\n",
       "      <td>0.547395</td>\n",
       "      <td>00:00</td>\n",
       "    </tr>\n",
       "    <tr>\n",
       "      <td>1</td>\n",
       "      <td>0.673931</td>\n",
       "      <td>0.678851</td>\n",
       "      <td>0.540698</td>\n",
       "      <td>0.529213</td>\n",
       "      <td>00:00</td>\n",
       "    </tr>\n",
       "    <tr>\n",
       "      <td>2</td>\n",
       "      <td>0.671459</td>\n",
       "      <td>0.677479</td>\n",
       "      <td>0.581395</td>\n",
       "      <td>0.561890</td>\n",
       "      <td>00:00</td>\n",
       "    </tr>\n",
       "    <tr>\n",
       "      <td>3</td>\n",
       "      <td>0.670714</td>\n",
       "      <td>0.677923</td>\n",
       "      <td>0.593023</td>\n",
       "      <td>0.566667</td>\n",
       "      <td>00:00</td>\n",
       "    </tr>\n",
       "    <tr>\n",
       "      <td>4</td>\n",
       "      <td>0.670961</td>\n",
       "      <td>0.677307</td>\n",
       "      <td>0.593023</td>\n",
       "      <td>0.566667</td>\n",
       "      <td>00:00</td>\n",
       "    </tr>\n",
       "  </tbody>\n",
       "</table>"
      ],
      "text/plain": [
       "<IPython.core.display.HTML object>"
      ]
     },
     "metadata": {},
     "output_type": "display_data"
    },
    {
     "name": "stderr",
     "output_type": "stream",
     "text": [
      "/opt/anaconda3/lib/python3.7/site-packages/ipykernel_launcher.py:22: UserWarning: Implicit dimension choice for log_softmax has been deprecated. Change the call to include dim=X as an argument.\n"
     ]
    }
   ],
   "source": [
    "#hide\n",
    "learn.fit_one_cycle(5, 1e-4, wd=  0.2)"
   ]
  },
  {
   "cell_type": "code",
   "execution_count": 355,
   "metadata": {},
   "outputs": [],
   "source": [
    "learn.save('150-50-focal')"
   ]
  },
  {
   "cell_type": "code",
   "execution_count": 356,
   "metadata": {},
   "outputs": [],
   "source": [
    "learn.export('150-50-focal.pth')"
   ]
  },
  {
   "cell_type": "code",
   "execution_count": 38,
   "metadata": {},
   "outputs": [],
   "source": [
    "#hide\n",
    "testdf = df.iloc[660:861].copy()"
   ]
  },
  {
   "cell_type": "code",
   "execution_count": 19,
   "metadata": {},
   "outputs": [
    {
     "ename": "NameError",
     "evalue": "name 'testdf' is not defined",
     "output_type": "error",
     "traceback": [
      "\u001b[0;31m---------------------------------------------------------------------------\u001b[0m",
      "\u001b[0;31mNameError\u001b[0m                                 Traceback (most recent call last)",
      "\u001b[0;32m<ipython-input-19-57e0498dd497>\u001b[0m in \u001b[0;36m<module>\u001b[0;34m\u001b[0m\n\u001b[0;32m----> 1\u001b[0;31m \u001b[0mtestdf\u001b[0m\u001b[0;34m.\u001b[0m\u001b[0murgency\u001b[0m\u001b[0;34m.\u001b[0m\u001b[0mvalue_counts\u001b[0m\u001b[0;34m(\u001b[0m\u001b[0;34m)\u001b[0m\u001b[0;34m\u001b[0m\u001b[0;34m\u001b[0m\u001b[0m\n\u001b[0m",
      "\u001b[0;31mNameError\u001b[0m: name 'testdf' is not defined"
     ]
    }
   ],
   "source": [
    "testdf.urgency.value_counts()"
   ]
  },
  {
   "cell_type": "code",
   "execution_count": 47,
   "metadata": {},
   "outputs": [
    {
     "data": {
      "text/html": [
       "<div>\n",
       "<style scoped>\n",
       "    .dataframe tbody tr th:only-of-type {\n",
       "        vertical-align: middle;\n",
       "    }\n",
       "\n",
       "    .dataframe tbody tr th {\n",
       "        vertical-align: top;\n",
       "    }\n",
       "\n",
       "    .dataframe thead th {\n",
       "        text-align: right;\n",
       "    }\n",
       "</style>\n",
       "<table border=\"1\" class=\"dataframe\">\n",
       "  <thead>\n",
       "    <tr style=\"text-align: right;\">\n",
       "      <th></th>\n",
       "      <th>predictions</th>\n",
       "      <th>sex</th>\n",
       "      <th>cough</th>\n",
       "      <th>fever</th>\n",
       "      <th>chills</th>\n",
       "      <th>sore_throat</th>\n",
       "      <th>headache</th>\n",
       "      <th>fatigue</th>\n",
       "      <th>urgency</th>\n",
       "    </tr>\n",
       "  </thead>\n",
       "  <tbody>\n",
       "    <tr>\n",
       "      <th>0</th>\n",
       "      <td></td>\n",
       "      <td>male</td>\n",
       "      <td>No</td>\n",
       "      <td>No</td>\n",
       "      <td>No</td>\n",
       "      <td>No</td>\n",
       "      <td>No</td>\n",
       "      <td>No</td>\n",
       "      <td>Low</td>\n",
       "    </tr>\n",
       "    <tr>\n",
       "      <th>1</th>\n",
       "      <td></td>\n",
       "      <td>male</td>\n",
       "      <td>No</td>\n",
       "      <td>Yes</td>\n",
       "      <td>No</td>\n",
       "      <td>No</td>\n",
       "      <td>No</td>\n",
       "      <td>No</td>\n",
       "      <td>High</td>\n",
       "    </tr>\n",
       "    <tr>\n",
       "      <th>2</th>\n",
       "      <td></td>\n",
       "      <td>male</td>\n",
       "      <td>Yes</td>\n",
       "      <td>Yes</td>\n",
       "      <td>No</td>\n",
       "      <td>Yes</td>\n",
       "      <td>No</td>\n",
       "      <td>No</td>\n",
       "      <td>Low</td>\n",
       "    </tr>\n",
       "    <tr>\n",
       "      <th>3</th>\n",
       "      <td></td>\n",
       "      <td>male</td>\n",
       "      <td>No</td>\n",
       "      <td>No</td>\n",
       "      <td>No</td>\n",
       "      <td>No</td>\n",
       "      <td>No</td>\n",
       "      <td>No</td>\n",
       "      <td>Low</td>\n",
       "    </tr>\n",
       "    <tr>\n",
       "      <th>4</th>\n",
       "      <td></td>\n",
       "      <td>male</td>\n",
       "      <td>No</td>\n",
       "      <td>Yes</td>\n",
       "      <td>No</td>\n",
       "      <td>No</td>\n",
       "      <td>Yes</td>\n",
       "      <td>No</td>\n",
       "      <td>Low</td>\n",
       "    </tr>\n",
       "  </tbody>\n",
       "</table>\n",
       "</div>"
      ],
      "text/plain": [
       "  predictions   sex cough fever chills sore_throat headache fatigue urgency\n",
       "0              male    No    No     No          No       No      No     Low\n",
       "1              male    No   Yes     No          No       No      No    High\n",
       "2              male   Yes   Yes     No         Yes       No      No     Low\n",
       "3              male    No    No     No          No       No      No     Low\n",
       "4              male    No   Yes     No          No      Yes      No     Low"
      ]
     },
     "execution_count": 47,
     "metadata": {},
     "output_type": "execute_result"
    }
   ],
   "source": [
    "testdf.head()"
   ]
  },
  {
   "cell_type": "code",
   "execution_count": 44,
   "metadata": {},
   "outputs": [],
   "source": [
    "testdf = testdf.iloc[:,1:]"
   ]
  },
  {
   "cell_type": "code",
   "execution_count": 57,
   "metadata": {},
   "outputs": [],
   "source": [
    "#hide\n",
    "testdf.insert(0, 'predictions','')"
   ]
  },
  {
   "cell_type": "code",
   "execution_count": 58,
   "metadata": {},
   "outputs": [
    {
     "name": "stderr",
     "output_type": "stream",
     "text": [
      "/usr/local/lib/python3.7/site-packages/pandas/core/indexing.py:205: SettingWithCopyWarning: \n",
      "A value is trying to be set on a copy of a slice from a DataFrame\n",
      "\n",
      "See the caveats in the documentation: http://pandas.pydata.org/pandas-docs/stable/user_guide/indexing.html#returning-a-view-versus-a-copy\n",
      "  self._setitem_with_indexer(indexer, value)\n"
     ]
    }
   ],
   "source": [
    "#hide\n",
    "for i in range(len(testdf)):\n",
    "    row = testdf.iloc[i][1:]\n",
    "    testdf.predictions.iloc[i] = str(learn.predict(row)[0])"
   ]
  },
  {
   "cell_type": "markdown",
   "metadata": {},
   "source": [
    "### Making predictions\n",
    "\n",
    "We've taken out a test set to see how well our model works, by making predictions on them.\n",
    "\n",
    "Interestingly, all those predicted with 'High' urgency have a common trait of absence of **chills** and **sore throat**"
   ]
  },
  {
   "cell_type": "code",
   "execution_count": 59,
   "metadata": {},
   "outputs": [
    {
     "data": {
      "text/plain": [
       "Low     123\n",
       "High     45\n",
       "Name: urgency, dtype: int64"
      ]
     },
     "execution_count": 59,
     "metadata": {},
     "output_type": "execute_result"
    }
   ],
   "source": [
    "testdf.urgency.value_counts()"
   ]
  },
  {
   "cell_type": "code",
   "execution_count": 60,
   "metadata": {},
   "outputs": [
    {
     "data": {
      "text/plain": [
       "Low     90\n",
       "High    78\n",
       "Name: predictions, dtype: int64"
      ]
     },
     "execution_count": 60,
     "metadata": {},
     "output_type": "execute_result"
    }
   ],
   "source": [
    "testdf.predictions.value_counts()"
   ]
  },
  {
   "cell_type": "code",
   "execution_count": 347,
   "metadata": {},
   "outputs": [],
   "source": [
    "from sklearn.metrics import classification_report"
   ]
  },
  {
   "cell_type": "code",
   "execution_count": 348,
   "metadata": {},
   "outputs": [
    {
     "name": "stdout",
     "output_type": "stream",
     "text": [
      "              precision    recall  f1-score   support\n",
      "\n",
      "        High       0.60      0.35      0.44        78\n",
      "         Low       0.59      0.80      0.68        90\n",
      "\n",
      "    accuracy                           0.59       168\n",
      "   macro avg       0.59      0.57      0.56       168\n",
      "weighted avg       0.59      0.59      0.57       168\n",
      "\n"
     ]
    }
   ],
   "source": [
    "print(classification_report(testdf.predictions, testdf.urgency, labels = [\"High\", \"Low\"]))"
   ]
  },
  {
   "cell_type": "code",
   "execution_count": 301,
   "metadata": {},
   "outputs": [
    {
     "name": "stdout",
     "output_type": "stream",
     "text": [
      "              precision    recall  f1-score   support\n",
      "\n",
      "        High       0.40      0.35      0.37        52\n",
      "         Low       0.72      0.77      0.74       116\n",
      "\n",
      "    accuracy                           0.64       168\n",
      "   macro avg       0.56      0.56      0.56       168\n",
      "weighted avg       0.62      0.64      0.63       168\n",
      "\n"
     ]
    }
   ],
   "source": [
    "print(classification_report(testdf.predictions, testdf.urgency, labels = [\"High\", \"Low\"]))"
   ]
  },
  {
   "cell_type": "code",
   "execution_count": 48,
   "metadata": {},
   "outputs": [],
   "source": [
    "testdf = pd.read_csv('processed_over_test.csv')"
   ]
  },
  {
   "cell_type": "code",
   "execution_count": 50,
   "metadata": {},
   "outputs": [],
   "source": [
    "testdf = testdf.iloc[:,1:]"
   ]
  },
  {
   "cell_type": "code",
   "execution_count": 56,
   "metadata": {},
   "outputs": [
    {
     "data": {
      "text/html": [
       "<div>\n",
       "<style scoped>\n",
       "    .dataframe tbody tr th:only-of-type {\n",
       "        vertical-align: middle;\n",
       "    }\n",
       "\n",
       "    .dataframe tbody tr th {\n",
       "        vertical-align: top;\n",
       "    }\n",
       "\n",
       "    .dataframe thead th {\n",
       "        text-align: right;\n",
       "    }\n",
       "</style>\n",
       "<table border=\"1\" class=\"dataframe\">\n",
       "  <thead>\n",
       "    <tr style=\"text-align: right;\">\n",
       "      <th></th>\n",
       "      <th>age</th>\n",
       "      <th>sex</th>\n",
       "      <th>cough</th>\n",
       "      <th>fever</th>\n",
       "      <th>chills</th>\n",
       "      <th>sore_throat</th>\n",
       "      <th>headache</th>\n",
       "      <th>fatigue</th>\n",
       "      <th>urgency</th>\n",
       "    </tr>\n",
       "  </thead>\n",
       "  <tbody>\n",
       "    <tr>\n",
       "      <th>0</th>\n",
       "      <td>49.0</td>\n",
       "      <td>male</td>\n",
       "      <td>No</td>\n",
       "      <td>No</td>\n",
       "      <td>No</td>\n",
       "      <td>No</td>\n",
       "      <td>No</td>\n",
       "      <td>No</td>\n",
       "      <td>Low</td>\n",
       "    </tr>\n",
       "    <tr>\n",
       "      <th>1</th>\n",
       "      <td>60.0</td>\n",
       "      <td>male</td>\n",
       "      <td>No</td>\n",
       "      <td>Yes</td>\n",
       "      <td>No</td>\n",
       "      <td>No</td>\n",
       "      <td>No</td>\n",
       "      <td>No</td>\n",
       "      <td>High</td>\n",
       "    </tr>\n",
       "    <tr>\n",
       "      <th>2</th>\n",
       "      <td>41.0</td>\n",
       "      <td>male</td>\n",
       "      <td>Yes</td>\n",
       "      <td>Yes</td>\n",
       "      <td>No</td>\n",
       "      <td>Yes</td>\n",
       "      <td>No</td>\n",
       "      <td>No</td>\n",
       "      <td>Low</td>\n",
       "    </tr>\n",
       "    <tr>\n",
       "      <th>3</th>\n",
       "      <td>71.0</td>\n",
       "      <td>male</td>\n",
       "      <td>No</td>\n",
       "      <td>No</td>\n",
       "      <td>No</td>\n",
       "      <td>No</td>\n",
       "      <td>No</td>\n",
       "      <td>No</td>\n",
       "      <td>Low</td>\n",
       "    </tr>\n",
       "    <tr>\n",
       "      <th>4</th>\n",
       "      <td>50.0</td>\n",
       "      <td>male</td>\n",
       "      <td>No</td>\n",
       "      <td>Yes</td>\n",
       "      <td>No</td>\n",
       "      <td>No</td>\n",
       "      <td>Yes</td>\n",
       "      <td>No</td>\n",
       "      <td>Low</td>\n",
       "    </tr>\n",
       "  </tbody>\n",
       "</table>\n",
       "</div>"
      ],
      "text/plain": [
       "    age   sex cough fever chills sore_throat headache fatigue urgency\n",
       "0  49.0  male    No    No     No          No       No      No     Low\n",
       "1  60.0  male    No   Yes     No          No       No      No    High\n",
       "2  41.0  male   Yes   Yes     No         Yes       No      No     Low\n",
       "3  71.0  male    No    No     No          No       No      No     Low\n",
       "4  50.0  male    No   Yes     No          No      Yes      No     Low"
      ]
     },
     "execution_count": 56,
     "metadata": {},
     "output_type": "execute_result"
    }
   ],
   "source": [
    "testdf.head()"
   ]
  },
  {
   "cell_type": "code",
   "execution_count": 52,
   "metadata": {},
   "outputs": [],
   "source": [
    "yesnomapper = {1:'Yes', 0: 'No'}"
   ]
  },
  {
   "cell_type": "code",
   "execution_count": 53,
   "metadata": {},
   "outputs": [],
   "source": [
    "for col in testdf.columns[2:-1]:\n",
    "    testdf[col]= testdf[col].map(yesnomapper"
   ]
  },
  {
   "cell_type": "code",
   "execution_count": 54,
   "metadata": {},
   "outputs": [],
   "source": [
    "testdf['sex'] = testdf['sex'].map({1: 'male', 0:'female'})"
   ]
  },
  {
   "cell_type": "code",
   "execution_count": 55,
   "metadata": {},
   "outputs": [],
   "source": [
    "testdf['urgency'] = testdf['urgency'].map({0:'Low', 1:'High'})"
   ]
  },
  {
   "cell_type": "code",
   "execution_count": 62,
   "metadata": {},
   "outputs": [],
   "source": [
    "from sklearn.metrics import confusion_matrix"
   ]
  },
  {
   "cell_type": "code",
   "execution_count": 63,
   "metadata": {},
   "outputs": [],
   "source": [
    "cm_test = confusion_matrix(testdf.urgency, testdf.predictions)"
   ]
  },
  {
   "cell_type": "code",
   "execution_count": 64,
   "metadata": {},
   "outputs": [
    {
     "data": {
      "text/plain": [
       "array([[27, 18],\n",
       "       [51, 72]])"
      ]
     },
     "execution_count": 64,
     "metadata": {},
     "output_type": "execute_result"
    }
   ],
   "source": [
    "cm_test"
   ]
  },
  {
   "cell_type": "code",
   "execution_count": 65,
   "metadata": {},
   "outputs": [],
   "source": [
    "cm_test = np.array([[72, 51], [18,27]])"
   ]
  },
  {
   "cell_type": "code",
   "execution_count": 66,
   "metadata": {},
   "outputs": [
    {
     "data": {
      "text/plain": [
       "array([[72, 51],\n",
       "       [18, 27]])"
      ]
     },
     "execution_count": 66,
     "metadata": {},
     "output_type": "execute_result"
    }
   ],
   "source": [
    "cm_test"
   ]
  },
  {
   "cell_type": "code",
   "execution_count": 129,
   "metadata": {},
   "outputs": [],
   "source": [
    "cm_test2 = np.array([[94, 29],[30,15]])"
   ]
  },
  {
   "cell_type": "code",
   "execution_count": 134,
   "metadata": {},
   "outputs": [
    {
     "data": {
      "text/html": [
       "<div>\n",
       "<style scoped>\n",
       "    .dataframe tbody tr th:only-of-type {\n",
       "        vertical-align: middle;\n",
       "    }\n",
       "\n",
       "    .dataframe tbody tr th {\n",
       "        vertical-align: top;\n",
       "    }\n",
       "\n",
       "    .dataframe thead th {\n",
       "        text-align: right;\n",
       "    }\n",
       "</style>\n",
       "<table border=\"1\" class=\"dataframe\">\n",
       "  <thead>\n",
       "    <tr style=\"text-align: right;\">\n",
       "      <th></th>\n",
       "      <th>Predicted Low</th>\n",
       "      <th>Predicted High</th>\n",
       "    </tr>\n",
       "  </thead>\n",
       "  <tbody>\n",
       "    <tr>\n",
       "      <td>Actual Low</td>\n",
       "      <td>15</td>\n",
       "      <td>30</td>\n",
       "    </tr>\n",
       "    <tr>\n",
       "      <td>Actual High</td>\n",
       "      <td>29</td>\n",
       "      <td>94</td>\n",
       "    </tr>\n",
       "  </tbody>\n",
       "</table>\n",
       "</div>"
      ],
      "text/plain": [
       "             Predicted Low  Predicted High\n",
       "Actual Low              15              30\n",
       "Actual High             29              94"
      ]
     },
     "execution_count": 134,
     "metadata": {},
     "output_type": "execute_result"
    }
   ],
   "source": [
    "df_cm"
   ]
  },
  {
   "cell_type": "code",
   "execution_count": 137,
   "metadata": {},
   "outputs": [
    {
     "data": {
      "image/png": "[encoded data removed]",
      "text/plain": [
       "<Figure size 504x360 with 2 Axes>"
      ]
     },
     "metadata": {},
     "output_type": "display_data"
    }
   ],
   "source": [
    "import seaborn as sn\n",
    "import pandas as pd\n",
    "\n",
    "fig, ax = plt.subplots()\n",
    "fig.set_size_inches(7,5)\n",
    "df_cm = pd.DataFrame(cm_test2, index = ['Actual Low','Actual High'],\n",
    "                  columns = ['Predicted Low','Predicted High'])\n",
    "sns.set(font_scale=1.2)\n",
    "sn.heatmap(df_cm, annot=True, ax = ax)\n",
    "ax.set_ylim([0,2]);\n",
    "ax.set_title('Deep Model Confusion Matrix')\n",
    "fig.savefig('DeepModel_CM.png')"
   ]
  },
  {
   "cell_type": "markdown",
   "metadata": {},
   "source": [
    "## Profile after focal loss"
   ]
  },
  {
   "cell_type": "code",
   "execution_count": 354,
   "metadata": {},
   "outputs": [
    {
     "data": {
      "image/png": "[encoded data removed]",
      "text/plain": [
       "<Figure size 504x360 with 2 Axes>"
      ]
     },
     "metadata": {},
     "output_type": "display_data"
    }
   ],
   "source": [
    "import seaborn as sns\n",
    "import pandas as pd\n",
    "\n",
    "fig, ax = plt.subplots()\n",
    "fig.set_size_inches(7,5)\n",
    "df_cm = pd.DataFrame(cm_test, index = ['Actual Low','Actual High'],\n",
    "                  columns = ['Predicted Low','Predicted High'])\n",
    "sns.set(font_scale=1.2)\n",
    "sns.heatmap(df_cm, annot=True, ax = ax)\n",
    "ax.set_ylim([0,2]);\n",
    "ax.set_title('Deep Model Confusion Matrix (with Focal Loss)');\n",
    "fig.savefig('DeepModel_CM_Focal Loss.png')"
   ]
  },
  {
   "cell_type": "code",
   "execution_count": 67,
   "metadata": {},
   "outputs": [
    {
     "data": {
      "image/png": "[encoded data removed]",
      "text/plain": [
       "<Figure size 504x360 with 2 Axes>"
      ]
     },
     "metadata": {
      "needs_background": "light"
     },
     "output_type": "display_data"
    }
   ],
   "source": [
    "import seaborn as sns\n",
    "import pandas as pd\n",
    "\n",
    "fig, ax = plt.subplots()\n",
    "fig.set_size_inches(7,5)\n",
    "df_cm = pd.DataFrame(cm_test, index = ['Actual Low','Actual High'],\n",
    "                  columns = ['Predicted Low','Predicted High'])\n",
    "sns.set(font_scale=1.2)\n",
    "sns.heatmap(df_cm, annot=True, ax = ax)\n",
    "ax.set_ylim([0,2]);\n",
    "ax.set_title('Deep Model Confusion Matrix (with Focal Loss)');"
   ]
  },
  {
   "cell_type": "code",
   "execution_count": 69,
   "metadata": {},
   "outputs": [
    {
     "data": {
      "text/html": [
       "<div>\n",
       "<style scoped>\n",
       "    .dataframe tbody tr th:only-of-type {\n",
       "        vertical-align: middle;\n",
       "    }\n",
       "\n",
       "    .dataframe tbody tr th {\n",
       "        vertical-align: top;\n",
       "    }\n",
       "\n",
       "    .dataframe thead th {\n",
       "        text-align: right;\n",
       "    }\n",
       "</style>\n",
       "<table border=\"1\" class=\"dataframe\">\n",
       "  <thead>\n",
       "    <tr style=\"text-align: right;\">\n",
       "      <th></th>\n",
       "      <th>predictions</th>\n",
       "      <th>age</th>\n",
       "      <th>sex</th>\n",
       "      <th>cough</th>\n",
       "      <th>fever</th>\n",
       "      <th>chills</th>\n",
       "      <th>sore_throat</th>\n",
       "      <th>headache</th>\n",
       "      <th>fatigue</th>\n",
       "      <th>urgency</th>\n",
       "    </tr>\n",
       "  </thead>\n",
       "  <tbody>\n",
       "    <tr>\n",
       "      <th>0</th>\n",
       "      <td>Low</td>\n",
       "      <td>49.0</td>\n",
       "      <td>male</td>\n",
       "      <td>No</td>\n",
       "      <td>No</td>\n",
       "      <td>No</td>\n",
       "      <td>No</td>\n",
       "      <td>No</td>\n",
       "      <td>No</td>\n",
       "      <td>Low</td>\n",
       "    </tr>\n",
       "    <tr>\n",
       "      <th>1</th>\n",
       "      <td>Low</td>\n",
       "      <td>60.0</td>\n",
       "      <td>male</td>\n",
       "      <td>No</td>\n",
       "      <td>Yes</td>\n",
       "      <td>No</td>\n",
       "      <td>No</td>\n",
       "      <td>No</td>\n",
       "      <td>No</td>\n",
       "      <td>High</td>\n",
       "    </tr>\n",
       "    <tr>\n",
       "      <th>2</th>\n",
       "      <td>Low</td>\n",
       "      <td>41.0</td>\n",
       "      <td>male</td>\n",
       "      <td>Yes</td>\n",
       "      <td>Yes</td>\n",
       "      <td>No</td>\n",
       "      <td>Yes</td>\n",
       "      <td>No</td>\n",
       "      <td>No</td>\n",
       "      <td>Low</td>\n",
       "    </tr>\n",
       "    <tr>\n",
       "      <th>3</th>\n",
       "      <td>High</td>\n",
       "      <td>71.0</td>\n",
       "      <td>male</td>\n",
       "      <td>No</td>\n",
       "      <td>No</td>\n",
       "      <td>No</td>\n",
       "      <td>No</td>\n",
       "      <td>No</td>\n",
       "      <td>No</td>\n",
       "      <td>Low</td>\n",
       "    </tr>\n",
       "    <tr>\n",
       "      <th>4</th>\n",
       "      <td>Low</td>\n",
       "      <td>50.0</td>\n",
       "      <td>male</td>\n",
       "      <td>No</td>\n",
       "      <td>Yes</td>\n",
       "      <td>No</td>\n",
       "      <td>No</td>\n",
       "      <td>Yes</td>\n",
       "      <td>No</td>\n",
       "      <td>Low</td>\n",
       "    </tr>\n",
       "  </tbody>\n",
       "</table>\n",
       "</div>"
      ],
      "text/plain": [
       "  predictions   age   sex cough fever chills sore_throat headache fatigue  \\\n",
       "0         Low  49.0  male    No    No     No          No       No      No   \n",
       "1         Low  60.0  male    No   Yes     No          No       No      No   \n",
       "2         Low  41.0  male   Yes   Yes     No         Yes       No      No   \n",
       "3        High  71.0  male    No    No     No          No       No      No   \n",
       "4         Low  50.0  male    No   Yes     No          No      Yes      No   \n",
       "\n",
       "  urgency  \n",
       "0     Low  \n",
       "1    High  \n",
       "2     Low  \n",
       "3     Low  \n",
       "4     Low  "
      ]
     },
     "execution_count": 69,
     "metadata": {},
     "output_type": "execute_result"
    }
   ],
   "source": [
    "testdf.head()"
   ]
  },
  {
   "cell_type": "code",
   "execution_count": 72,
   "metadata": {},
   "outputs": [],
   "source": [
    "row = testdf.iloc[0]"
   ]
  },
  {
   "cell_type": "code",
   "execution_count": 83,
   "metadata": {},
   "outputs": [
    {
     "data": {
      "text/plain": [
       "0.45702"
      ]
     },
     "execution_count": 83,
     "metadata": {},
     "output_type": "execute_result"
    }
   ],
   "source": [
    "round(float(learn.predict(row[1:-1])[2][0]),5)"
   ]
  },
  {
   "cell_type": "markdown",
   "metadata": {},
   "source": [
    "## Experimental Section\n",
    "\n",
    "Trying to figure out top "
   ]
  },
  {
   "cell_type": "code",
   "execution_count": 84,
   "metadata": {},
   "outputs": [
    {
     "name": "stderr",
     "output_type": "stream",
     "text": [
      "/usr/local/lib/python3.7/site-packages/pandas/core/indexing.py:205: SettingWithCopyWarning: \n",
      "A value is trying to be set on a copy of a slice from a DataFrame\n",
      "\n",
      "See the caveats in the documentation: http://pandas.pydata.org/pandas-docs/stable/user_guide/indexing.html#returning-a-view-versus-a-copy\n",
      "  self._setitem_with_indexer(indexer, value)\n"
     ]
    }
   ],
   "source": [
    "for i in range(len(testdf)):\n",
    "    row = testdf.iloc[i][1:]\n",
    "    testdf.probability.iloc[i] = round(float(learn.predict(row[1:-1])[2][0]),5)"
   ]
  },
  {
   "cell_type": "code",
   "execution_count": 119,
   "metadata": {},
   "outputs": [
    {
     "data": {
      "text/html": [
       "<div>\n",
       "<style scoped>\n",
       "    .dataframe tbody tr th:only-of-type {\n",
       "        vertical-align: middle;\n",
       "    }\n",
       "\n",
       "    .dataframe tbody tr th {\n",
       "        vertical-align: top;\n",
       "    }\n",
       "\n",
       "    .dataframe thead th {\n",
       "        text-align: right;\n",
       "    }\n",
       "</style>\n",
       "<table border=\"1\" class=\"dataframe\">\n",
       "  <thead>\n",
       "    <tr style=\"text-align: right;\">\n",
       "      <th></th>\n",
       "      <th>predictions</th>\n",
       "      <th>probability</th>\n",
       "      <th>age</th>\n",
       "      <th>sex</th>\n",
       "      <th>cough</th>\n",
       "      <th>fever</th>\n",
       "      <th>chills</th>\n",
       "      <th>sore_throat</th>\n",
       "      <th>headache</th>\n",
       "      <th>fatigue</th>\n",
       "      <th>urgency</th>\n",
       "    </tr>\n",
       "  </thead>\n",
       "  <tbody>\n",
       "    <tr>\n",
       "      <th>51</th>\n",
       "      <td>High</td>\n",
       "      <td>0.84191</td>\n",
       "      <td>96.0</td>\n",
       "      <td>female</td>\n",
       "      <td>Yes</td>\n",
       "      <td>Yes</td>\n",
       "      <td>No</td>\n",
       "      <td>No</td>\n",
       "      <td>No</td>\n",
       "      <td>No</td>\n",
       "      <td>Low</td>\n",
       "    </tr>\n",
       "    <tr>\n",
       "      <th>111</th>\n",
       "      <td>High</td>\n",
       "      <td>0.68008</td>\n",
       "      <td>13.0</td>\n",
       "      <td>female</td>\n",
       "      <td>No</td>\n",
       "      <td>Yes</td>\n",
       "      <td>No</td>\n",
       "      <td>No</td>\n",
       "      <td>No</td>\n",
       "      <td>No</td>\n",
       "      <td>Low</td>\n",
       "    </tr>\n",
       "    <tr>\n",
       "      <th>54</th>\n",
       "      <td>High</td>\n",
       "      <td>0.63708</td>\n",
       "      <td>20.0</td>\n",
       "      <td>female</td>\n",
       "      <td>No</td>\n",
       "      <td>No</td>\n",
       "      <td>No</td>\n",
       "      <td>No</td>\n",
       "      <td>No</td>\n",
       "      <td>No</td>\n",
       "      <td>Low</td>\n",
       "    </tr>\n",
       "    <tr>\n",
       "      <th>34</th>\n",
       "      <td>High</td>\n",
       "      <td>0.63283</td>\n",
       "      <td>18.0</td>\n",
       "      <td>male</td>\n",
       "      <td>No</td>\n",
       "      <td>No</td>\n",
       "      <td>No</td>\n",
       "      <td>No</td>\n",
       "      <td>No</td>\n",
       "      <td>No</td>\n",
       "      <td>High</td>\n",
       "    </tr>\n",
       "    <tr>\n",
       "      <th>151</th>\n",
       "      <td>High</td>\n",
       "      <td>0.63198</td>\n",
       "      <td>20.0</td>\n",
       "      <td>male</td>\n",
       "      <td>No</td>\n",
       "      <td>No</td>\n",
       "      <td>No</td>\n",
       "      <td>No</td>\n",
       "      <td>No</td>\n",
       "      <td>No</td>\n",
       "      <td>High</td>\n",
       "    </tr>\n",
       "  </tbody>\n",
       "</table>\n",
       "</div>"
      ],
      "text/plain": [
       "    predictions probability   age     sex cough fever chills sore_throat  \\\n",
       "51         High     0.84191  96.0  female   Yes   Yes     No          No   \n",
       "111        High     0.68008  13.0  female    No   Yes     No          No   \n",
       "54         High     0.63708  20.0  female    No    No     No          No   \n",
       "34         High     0.63283  18.0    male    No    No     No          No   \n",
       "151        High     0.63198  20.0    male    No    No     No          No   \n",
       "\n",
       "    headache fatigue urgency  \n",
       "51        No      No     Low  \n",
       "111       No      No     Low  \n",
       "54        No      No     Low  \n",
       "34        No      No    High  \n",
       "151       No      No    High  "
      ]
     },
     "execution_count": 119,
     "metadata": {},
     "output_type": "execute_result"
    }
   ],
   "source": [
    "testdf.head()"
   ]
  },
  {
   "cell_type": "code",
   "execution_count": 92,
   "metadata": {},
   "outputs": [],
   "source": [
    "testdf.sort_values(by=['probability'],ascending = False, inplace = True)"
   ]
  },
  {
   "cell_type": "code",
   "execution_count": null,
   "metadata": {},
   "outputs": [],
   "source": []
  },
  {
   "cell_type": "code",
   "execution_count": null,
   "metadata": {},
   "outputs": [],
   "source": [
    "#\n",
    "cumulative lift gain\n",
    "\n",
    "baseline model - test 20%"
   ]
  },
  {
   "cell_type": "code",
   "execution_count": null,
   "metadata": {},
   "outputs": [],
   "source": [
    "Cost based affection \n",
    "\n",
    "Give kits only top 20%\n",
    "\n",
    "Profiling them:\n",
    "How you can get the probs?\n",
    "Decile?\n",
    "\n",
    "subsetting your group - divide 100 people into ten equal groups\n",
    "descending order of probability\n",
    "\n",
    "profile them: see features (prediction important features)\n",
    "    \n",
    "top 20 vs rest 80\n",
    "\n",
    "Descriptive statistics (count, mean, median, average)\n",
    "\n",
    "How are they different? (see a big distinction top 20 top 80)\n",
    "\n",
    "figure out what is happening\n",
    "\n",
    "\n",
    "\n",
    "questions:\n",
    "    \n",
    "lift curve\n",
    "\n",
    "    "
   ]
  },
  {
   "cell_type": "code",
   "execution_count": null,
   "metadata": {},
   "outputs": [],
   "source": [
    "#\n",
    "\n",
    "1. GET PROBABILITIES\n",
    "2. MAKE DECILES\n",
    "3. MAKE CURVE\n",
    "4. PROFILING (feature selection - HOW ARE THEY BEHAVING??)\n",
    "\n",
    "Optional:\n",
    "    \n",
    "Work with different thresholds"
   ]
  },
  {
   "cell_type": "code",
   "execution_count": null,
   "metadata": {},
   "outputs": [],
   "source": [
    "Confusion matrix to risk matrix (cost what minimizes - risk utility matrix)"
   ]
  },
  {
   "cell_type": "code",
   "execution_count": 114,
   "metadata": {},
   "outputs": [],
   "source": [
    "import scikitplot as skplt"
   ]
  },
  {
   "cell_type": "code",
   "execution_count": 129,
   "metadata": {},
   "outputs": [],
   "source": [
    "y2 = y2.urgency"
   ]
  },
  {
   "cell_type": "code",
   "execution_count": 202,
   "metadata": {},
   "outputs": [
    {
     "data": {
      "text/plain": [
       "<matplotlib.axes._subplots.AxesSubplot at 0x136854350>"
      ]
     },
     "execution_count": 202,
     "metadata": {},
     "output_type": "execute_result"
    },
    {
     "data": {
      "image/png": "[encoded data removed]",
      "text/plain": [
       "<Figure size 576x288 with 1 Axes>"
      ]
     },
     "metadata": {},
     "output_type": "display_data"
    }
   ],
   "source": [
    "fig, ax = plt.subplots()\n",
    "fig.set_size_inches(8, 4)\n",
    "skplt.metrics.plot_cumulative_gain(y_true = testdf.urgency, y_probas= predicted_probas, ax=ax)\n",
    "#    plt.savefig('lift_curve.png')"
   ]
  },
  {
   "cell_type": "code",
   "execution_count": null,
   "metadata": {},
   "outputs": [],
   "source": [
    "df['decile1'] = pd.qcut(df['pred_prob'].rank(method='first'), 10, labels=np.arange(10, 0, -1))"
   ]
  },
  {
   "cell_type": "code",
   "execution_count": 259,
   "metadata": {},
   "outputs": [],
   "source": [
    "lr_predicted_probas = []\n",
    "\n",
    "for i in range(len(lr_df)):\n",
    "    iprob = lr_df.iloc[i,0]\n",
    "    lr_predicted_probas.append([round(iprob,4), round(1 - iprob,4)])"
   ]
  },
  {
   "cell_type": "code",
   "execution_count": 248,
   "metadata": {},
   "outputs": [],
   "source": [
    "pickle_in = open('lg_predictions.pkl', 'rb')\n",
    "lr_df = pickle.load(pickle_in)"
   ]
  },
  {
   "cell_type": "code",
   "execution_count": 294,
   "metadata": {},
   "outputs": [
    {
     "data": {
      "text/plain": [
       "['seaborn-dark',\n",
       " 'seaborn-darkgrid',\n",
       " 'seaborn-ticks',\n",
       " 'fivethirtyeight',\n",
       " 'seaborn-whitegrid',\n",
       " 'classic',\n",
       " '_classic_test',\n",
       " 'fast',\n",
       " 'seaborn-talk',\n",
       " 'seaborn-dark-palette',\n",
       " 'seaborn-bright',\n",
       " 'seaborn-pastel',\n",
       " 'grayscale',\n",
       " 'seaborn-notebook',\n",
       " 'ggplot',\n",
       " 'seaborn-colorblind',\n",
       " 'seaborn-muted',\n",
       " 'seaborn',\n",
       " 'Solarize_Light2',\n",
       " 'seaborn-paper',\n",
       " 'bmh',\n",
       " 'tableau-colorblind10',\n",
       " 'seaborn-white',\n",
       " 'dark_background',\n",
       " 'seaborn-poster',\n",
       " 'seaborn-deep']"
      ]
     },
     "execution_count": 294,
     "metadata": {},
     "output_type": "execute_result"
    }
   ],
   "source": [
    "plt.style.available"
   ]
  },
  {
   "cell_type": "code",
   "execution_count": 305,
   "metadata": {},
   "outputs": [],
   "source": [
    "plt.style.use('classic')"
   ]
  },
  {
   "cell_type": "code",
   "execution_count": 306,
   "metadata": {},
   "outputs": [
    {
     "data": {
      "image/png": "[encoded data removed]",
      "text/plain": [
       "<Figure size 800x480 with 1 Axes>"
      ]
     },
     "metadata": {},
     "output_type": "display_data"
    }
   ],
   "source": [
    "fig, ax = plt.subplots(figsize = (10,6))\n",
    "classes = np.unique(np.array(testdf.urgency))\n",
    "percentages, gains1 = skplt.metrics.cumulative_gain_curve(np.array(testdf.urgency), predicted_probas[:,0], classes[0])\n",
    "percentages, gains2 = skplt.metrics.cumulative_gain_curve(np.array(lr_df.urgency), lr_predictions[:,0], classes[0])\n",
    "ax.plot(percentages, gains1, lw=3, label = f'{classes[0]} Urgency - Deep Model')\n",
    "ax.plot(percentages, gains2, lw=3, label = f'{classes[0]} Urgency - Logistic Regression')\n",
    "\n",
    "ax.set_xlim([0.0,1.0])\n",
    "ax.set_ylim([0.0,1.0])\n",
    "ax.plot([0,1],[0,1], 'k--', lw =2, label = 'Baseline')\n",
    "\n",
    "ax.grid('off')\n",
    "\n",
    "ax.set_xlabel('Percentage of sample', fontsize=20)\n",
    "ax.set_ylabel('Gain', fontsize=20)\n",
    "ax.legend(loc = 'lower right', fontsize = 15)\n",
    "\n",
    "ax.set_title(\"Cumulative Gains Curve -'High Urgency' classification\", fontsize = 20)\n",
    "fig.savefig('Cumulative Gains Chart')"
   ]
  },
  {
   "cell_type": "code",
   "execution_count": 204,
   "metadata": {},
   "outputs": [],
   "source": [
    "os_data_y = testdf.urgency"
   ]
  },
  {
   "cell_type": "code",
   "execution_count": 207,
   "metadata": {},
   "outputs": [],
   "source": [
    "os_data_y = os_data_y.to_frame()"
   ]
  },
  {
   "cell_type": "code",
   "execution_count": 212,
   "metadata": {},
   "outputs": [],
   "source": [
    "os_data_y = os_data_y.urgency.map({'High':1, 'Low':0})"
   ]
  },
  {
   "cell_type": "code",
   "execution_count": 213,
   "metadata": {},
   "outputs": [],
   "source": [
    "os_data_y = np.array(os_data_y)"
   ]
  },
  {
   "cell_type": "markdown",
   "metadata": {},
   "source": [
    "## Profiling"
   ]
  },
  {
   "cell_type": "code",
   "execution_count": 281,
   "metadata": {},
   "outputs": [
    {
     "data": {
      "text/html": [
       "<div>\n",
       "<style scoped>\n",
       "    .dataframe tbody tr th:only-of-type {\n",
       "        vertical-align: middle;\n",
       "    }\n",
       "\n",
       "    .dataframe tbody tr th {\n",
       "        vertical-align: top;\n",
       "    }\n",
       "\n",
       "    .dataframe thead th {\n",
       "        text-align: right;\n",
       "    }\n",
       "</style>\n",
       "<table border=\"1\" class=\"dataframe\">\n",
       "  <thead>\n",
       "    <tr style=\"text-align: right;\">\n",
       "      <th></th>\n",
       "      <th>predictions</th>\n",
       "      <th>probability</th>\n",
       "      <th>age</th>\n",
       "      <th>sex</th>\n",
       "      <th>cough</th>\n",
       "      <th>fever</th>\n",
       "      <th>chills</th>\n",
       "      <th>sore_throat</th>\n",
       "      <th>headache</th>\n",
       "      <th>fatigue</th>\n",
       "      <th>urgency</th>\n",
       "    </tr>\n",
       "  </thead>\n",
       "  <tbody>\n",
       "    <tr>\n",
       "      <th>51</th>\n",
       "      <td>High</td>\n",
       "      <td>0.84191</td>\n",
       "      <td>96.0</td>\n",
       "      <td>female</td>\n",
       "      <td>Yes</td>\n",
       "      <td>Yes</td>\n",
       "      <td>No</td>\n",
       "      <td>No</td>\n",
       "      <td>No</td>\n",
       "      <td>No</td>\n",
       "      <td>Low</td>\n",
       "    </tr>\n",
       "    <tr>\n",
       "      <th>111</th>\n",
       "      <td>High</td>\n",
       "      <td>0.68008</td>\n",
       "      <td>13.0</td>\n",
       "      <td>female</td>\n",
       "      <td>No</td>\n",
       "      <td>Yes</td>\n",
       "      <td>No</td>\n",
       "      <td>No</td>\n",
       "      <td>No</td>\n",
       "      <td>No</td>\n",
       "      <td>Low</td>\n",
       "    </tr>\n",
       "    <tr>\n",
       "      <th>54</th>\n",
       "      <td>High</td>\n",
       "      <td>0.63708</td>\n",
       "      <td>20.0</td>\n",
       "      <td>female</td>\n",
       "      <td>No</td>\n",
       "      <td>No</td>\n",
       "      <td>No</td>\n",
       "      <td>No</td>\n",
       "      <td>No</td>\n",
       "      <td>No</td>\n",
       "      <td>Low</td>\n",
       "    </tr>\n",
       "    <tr>\n",
       "      <th>34</th>\n",
       "      <td>High</td>\n",
       "      <td>0.63283</td>\n",
       "      <td>18.0</td>\n",
       "      <td>male</td>\n",
       "      <td>No</td>\n",
       "      <td>No</td>\n",
       "      <td>No</td>\n",
       "      <td>No</td>\n",
       "      <td>No</td>\n",
       "      <td>No</td>\n",
       "      <td>High</td>\n",
       "    </tr>\n",
       "    <tr>\n",
       "      <th>151</th>\n",
       "      <td>High</td>\n",
       "      <td>0.63198</td>\n",
       "      <td>20.0</td>\n",
       "      <td>male</td>\n",
       "      <td>No</td>\n",
       "      <td>No</td>\n",
       "      <td>No</td>\n",
       "      <td>No</td>\n",
       "      <td>No</td>\n",
       "      <td>No</td>\n",
       "      <td>High</td>\n",
       "    </tr>\n",
       "  </tbody>\n",
       "</table>\n",
       "</div>"
      ],
      "text/plain": [
       "    predictions probability   age     sex cough fever chills sore_throat  \\\n",
       "51         High     0.84191  96.0  female   Yes   Yes     No          No   \n",
       "111        High     0.68008  13.0  female    No   Yes     No          No   \n",
       "54         High     0.63708  20.0  female    No    No     No          No   \n",
       "34         High     0.63283  18.0    male    No    No     No          No   \n",
       "151        High     0.63198  20.0    male    No    No     No          No   \n",
       "\n",
       "    headache fatigue urgency  \n",
       "51        No      No     Low  \n",
       "111       No      No     Low  \n",
       "54        No      No     Low  \n",
       "34        No      No    High  \n",
       "151       No      No    High  "
      ]
     },
     "execution_count": 281,
     "metadata": {},
     "output_type": "execute_result"
    }
   ],
   "source": [
    "testdf.head()\n"
   ]
  },
  {
   "cell_type": "code",
   "execution_count": 317,
   "metadata": {},
   "outputs": [],
   "source": [
    "testdf['decile'] = pd.qcut(testdf.probability, q = 5, labels= False)"
   ]
  },
  {
   "cell_type": "code",
   "execution_count": 336,
   "metadata": {},
   "outputs": [
    {
     "data": {
      "text/plain": [
       "No     54\n",
       "Yes    13\n",
       "Name: fever, dtype: int64"
      ]
     },
     "execution_count": 336,
     "metadata": {},
     "output_type": "execute_result"
    }
   ],
   "source": [
    "testdf[testdf.decile >2].fever.value_counts()"
   ]
  },
  {
   "cell_type": "code",
   "execution_count": 307,
   "metadata": {},
   "outputs": [
    {
     "data": {
      "image/png": "[encoded data removed]",
      "text/plain": [
       "<Figure size 640x480 with 1 Axes>"
      ]
     },
     "metadata": {},
     "output_type": "display_data"
    }
   ],
   "source": []
  },
  {
   "cell_type": "code",
   "execution_count": null,
   "metadata": {},
   "outputs": [],
   "source": []
  },
  {
   "cell_type": "code",
   "execution_count": null,
   "metadata": {},
   "outputs": [],
   "source": []
  },
  {
   "cell_type": "code",
   "execution_count": null,
   "metadata": {},
   "outputs": [],
   "source": []
  },
  {
   "cell_type": "code",
   "execution_count": null,
   "metadata": {},
   "outputs": [],
   "source": []
  }
 ],
 "metadata": {
  "kernelspec": {
   "display_name": "Python 3",
   "language": "python",
   "name": "python3"
  },
  "language_info": {
   "codemirror_mode": {
    "name": "ipython",
    "version": 3
   },
   "file_extension": ".py",
   "mimetype": "text/x-python",
   "name": "python",
   "nbconvert_exporter": "python",
   "pygments_lexer": "ipython3",
   "version": "3.7.5"
  }
 },
 "nbformat": 4,
 "nbformat_minor": 4
}
