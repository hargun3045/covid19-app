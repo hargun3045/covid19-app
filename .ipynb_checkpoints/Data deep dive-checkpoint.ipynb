{
 "cells": [
  {
   "cell_type": "code",
   "execution_count": 3,
   "metadata": {},
   "outputs": [],
   "source": [
    "import pandas as pd\n",
    "import matplotlib.pyplot as plt\n",
    "%matplotlib inline"
   ]
  },
  {
   "cell_type": "code",
   "execution_count": 5,
   "metadata": {},
   "outputs": [],
   "source": [
    "from pathlib import Path"
   ]
  },
  {
   "cell_type": "code",
   "execution_count": 6,
   "metadata": {},
   "outputs": [],
   "source": [
    "df = pd.read_csv('covid_ml.csv')"
   ]
  },
  {
   "cell_type": "code",
   "execution_count": 17,
   "metadata": {},
   "outputs": [],
   "source": [
    "def plotmulti(df1, df2,label1, label2):\n",
    "    ds1 = df1.risetime\n",
    "    ds2 = df2.risetime\n",
    "    fig, ax = plt.subplots()\n",
    "    width = 0.4\n",
    "    m1,s1 = ds1.mean(),ds1.std()\n",
    "    m2,s2 = ds2.mean(), ds2.std()\n",
    "    fig.set_size_inches(16,8)\n",
    "    d1 = ds1.value_counts(normalize = True).sort_index().reset_index()\n",
    "    d1.columns = ['risetime','A']\n",
    "    d2 = ds2.value_counts(normalize = True).sort_index().reset_index()\n",
    "    d2.columns = ['risetime','B']\n",
    "    d1.merge(d2).plot(ax = ax, kind = 'bar', x = 'risetime', y = ['A','B'], width = 0.8, colors = ['r','b'])\n",
    "    fig.suptitle(f'Daily Risetime Comparison - {label1} vs {label2}', fontsize = 36)\n",
    "    ax.set_ylabel('Rising frequency (Normalized)', fontsize = 20)\n",
    "    ax.set_xlabel('Hour of day', fontsize = 20)\n",
    "    props = dict(boxstyle = 'round', facecolor = 'wheat', alpha = 0.75)\n",
    "    textstr1 = '\\n'.join((\n",
    "    label1,\n",
    "    r'$\\mu=%.2f$' % (m1, ),\n",
    "    r'$\\sigma=%.2f$' % (s1, )))\n",
    "    \n",
    "    textstr2 = '\\n'.join((\n",
    "    label2,\n",
    "    r'$\\mu=%.2f$' % (m2, ),\n",
    "    r'$\\sigma=%.2f$' % (s2, )))\n",
    "    ax.text(0.05, 0.80, textstr1,transform = ax.transAxes, fontsize = 20, bbox = props)\n",
    "    ax.text(0.05, 0.60, textstr2,transform = ax.transAxes, fontsize = 20, bbox = props)\n",
    "    ax.legend([label1, label2],loc = 'best', fontsize = 25)\n",
    "#    plt.savefig(f'./DreamImages/{label1}vs{label2}.jpeg')"
   ]
  },
  {
   "cell_type": "code",
   "execution_count": null,
   "metadata": {},
   "outputs": [],
   "source": []
  },
  {
   "cell_type": "code",
   "execution_count": null,
   "metadata": {},
   "outputs": [],
   "source": []
  },
  {
   "cell_type": "code",
   "execution_count": null,
   "metadata": {},
   "outputs": [],
   "source": []
  },
  {
   "cell_type": "code",
   "execution_count": null,
   "metadata": {},
   "outputs": [],
   "source": []
  },
  {
   "cell_type": "code",
   "execution_count": null,
   "metadata": {},
   "outputs": [],
   "source": []
  },
  {
   "cell_type": "code",
   "execution_count": null,
   "metadata": {},
   "outputs": [],
   "source": []
  }
 ],
 "metadata": {
  "kernelspec": {
   "display_name": "Python 3",
   "language": "python",
   "name": "python3"
  },
  "language_info": {
   "codemirror_mode": {
    "name": "ipython",
    "version": 3
   },
   "file_extension": ".py",
   "mimetype": "text/x-python",
   "name": "python",
   "nbconvert_exporter": "python",
   "pygments_lexer": "ipython3",
   "version": "3.7.5"
  }
 },
 "nbformat": 4,
 "nbformat_minor": 4
}
